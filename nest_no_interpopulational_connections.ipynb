{
 "cells": [
  {
   "cell_type": "markdown",
   "metadata": {},
   "source": [
    "# Simulate populations of neurons using NEST"
   ]
  },
  {
   "cell_type": "code",
   "execution_count": null,
   "metadata": {},
   "outputs": [],
   "source": [
    "!pip install seaborn"
      "Requirement already satisfied: matplotlib>=2.1.2 in /usr/lib/python3/dist-packages (from seaborn) (3.0.2)\r\n",
   ]
  },
  {
   "cell_type": "code",
   "execution_count": null,
   "metadata": {},
   "outputs": [],
   "source": [
    "import seaborn as sns\n",
    "import pylab\n",
    "import numpy as np\n",
    "import matplotlib.pyplot as plt\n",
    "import csv\n",
    "import nest"
   ]
  },
  {
   "cell_type": "markdown",
   "metadata": {},
   "source": [
    "### Create populations"
   ]
  },
  {
   "cell_type": "markdown",
   "metadata": {},
   "source": [
    "Each population is composed of 4,175 IAF neurons from which\n",
    "80% are excitatory."
   ]
  },
  {
   "cell_type": "markdown",
   "metadata": {},
   "source": [
    "### Config"
   ]
  },
  {
   "cell_type": "code",
   "execution_count": null,
   "metadata": {},
   "outputs": [],
   "source": [
    "np.random.seed(42)\n",
    "\n",
    "exc_cfg = {\"I_e\": 200.0, \"tau_m\": 20.0}\n",
    "nest.CopyModel(\"iaf_psc_alpha\", \"exc_iaf_psc_alpha\")\n",
    "nest.SetDefaults(\"exc_iaf_psc_alpha\", exc_cfg)\n",
    "\n",
    "inh_cfg = {\"I_e\": 200.}\n",
    "\n",
    "inner_connectivity = .1\n",
    "outer_connectivity = .0025\n",
    "pop_size = 4175\n",
    "inh_part = .2\n",
    "\n",
    "# simulation times\n",
    "t_sim = 1500.\n",
    "\n",
    "# spike detectors and multimeters\n",
    "n_devices = 100\n",
    "\n",
    "# poisson generators per neuron\n",
    "# NOTE: much more than 20 are not possible with 16 GB RAM\n",
    "n_pg = 5"
   ]
  },
  {
   "cell_type": "markdown",
   "metadata": {},
   "source": [
    "## Create and connect neurons and devices"
   ]
  },
  {
   "cell_type": "markdown",
   "metadata": {},
   "source": [
    "Each population is composed of 4,175 IAF neurons from which\n",
    "80% are excitatory."
   ]
  },
  {
   "cell_type": "markdown",
   "metadata": {},
   "source": [
    "### Neurons\n"
   ]
  },
  {
   "cell_type": "markdown",
   "metadata": {},
   "source": [
    "Each neuron receives a synapse from 10% of randomly selected cells inside its population."
   ]
  },
  {
   "cell_type": "code",
   "execution_count": null,
   "metadata": {},
   "outputs": [],
   "source": [
    "p1 = nest.Create(\"exc_iaf_psc_alpha\", pop_size)\n",
    "p2 = nest.Create(\"exc_iaf_psc_alpha\", pop_size)\n",
    "p3 = nest.Create(\"exc_iaf_psc_alpha\", pop_size)"
   ]
  },
  {
   "cell_type": "code",
   "execution_count": null,
   "metadata": {},
   "outputs": [],
   "source": [
    "# make 20% of the neurons inhibitory\n",
    "inh_boundary = int(pop_size * .2)\n",
    "for p in [p1,p2,p3]:\n",
    "    for neuron in p[:inh_boundary]:\n",
    "        nest.SetStatus(neuron, inh_cfg)"
   ]
  },
  {
   "cell_type": "code",
   "execution_count": null,
   "metadata": {},
   "outputs": [],
   "source": [
    "# randomize inital membrane voltage\n",
    "V_range = np.linspace(-77,-55,100)\n",
    "\n",
    "nest.SetStatus(p1, {\"V_m\": np.random.choice(V_range)})    \n",
    "nest.SetStatus(p2, {\"V_m\": np.random.choice(V_range)})\n",
    "nest.SetStatus(p3, {\"V_m\": np.random.choice(V_range)})  "
   ]
  },
  {
   "cell_type": "code",
   "execution_count": null,
   "metadata": {},
   "outputs": [],
   "source": [
    "# index options\n",
    "opt = np.arange(0, pop_size)\n",
    "# number of intrapopulational connections\n",
    "num_inner_conn = int(pop_size * inner_connectivity)\n",
    "# index border of the inhibitory part\n",
    "inh_border = int(pop_size * inh_part)\n",
    "\n",
    "# for each neuron randomize a percentage of the other neurons to be connected to\n",
    "for i, (n1,n2,n3) in enumerate(zip(p1,p2,p3)):\n",
    "    \n",
    "    c1 = np.random.choice(opt, num_inner_conn, replace=False)\n",
    "    c2 = np.random.choice(opt, num_inner_conn, replace=False)\n",
    "    c3 = np.random.choice(opt, num_inner_conn, replace=False)\n",
    "    \n",
    "    # different weights for inhibitory and excitatory neurons\n",
    "    nest.Connect(p1[c1[c1 <inh_border]], n1, syn_spec =  {'weight' : -1} )    \n",
    "    nest.Connect(p1[c1[c1 >= inh_border]], n1)   \n",
    "    \n",
    "    nest.Connect(p2[c2[c2 < inh_border]], n2, syn_spec =  {'weight' : -1} )    \n",
    "    nest.Connect(p2[c2[c2 >= inh_border]], n2)       \n",
    "    \n",
    "    nest.Connect(p3[c3[c3 < inh_border]], n3, syn_spec =  {'weight' : -1} )    \n",
    "    nest.Connect(p3[c3[c3 >= inh_border]], n3)"
   ]
  },
  {
   "cell_type": "markdown",
   "metadata": {},
   "source": [
    "### Poisson generators"
   ]
  },
  {
   "cell_type": "code",
   "execution_count": null,
   "metadata": {},
   "outputs": [],
   "source": [
    "pg_cfg = {\"rate\": 5.}\n",
    "for i, (n1, n2, n3) in enumerate(zip(p1, p2, p3)):\n",
    "    pg1 = nest.Create(\"poisson_generator\", n_pg, pg_cfg)\n",
    "    nest.Connect(pg1, n1)\n",
    "    \n",
    "    pg2 = nest.Create(\"poisson_generator\", n_pg, pg_cfg)\n",
    "    nest.Connect(pg2, n2)\n",
    "    \n",
    "    pg3 = nest.Create(\"poisson_generator\", n_pg, pg_cfg)\n",
    "    nest.Connect(pg3, n3)"
   ]
  },
  {
   "cell_type": "markdown",
   "metadata": {},
   "source": [
    "### Multimeters and spike detectors"
   ]
  },
  {
   "cell_type": "code",
   "execution_count": null,
   "metadata": {},
   "outputs": [],
   "source": [
    "m = [nest.Create(\"multimeter\", params={\"time_in_steps\":True, \"record_from\":[\"V_m\"]}) for _ in range(300)]\n",
    "s = [nest.Create(\"spike_detector\") for _ in range(300)]\n",
    "opt_inh = np.arange(0, 835)\n",
    "opt_exc = np.arange(835, 4175)\n",
    "num_inh = int(np.around(n_devices * inh_part))\n",
    "num_exc = int(np.around(n_devices * (1. - inh_part)))\n",
    "\n",
    "n1_inh = np.random.choice(opt_inh, num_inh, replace=False)\n",
    "n2_inh = np.random.choice(opt_inh, num_inh, replace=False)\n",
    "n3_inh = np.random.choice(opt_inh, num_inh, replace=False)\n",
    "\n",
    "n1_exc = np.random.choice(opt_exc, num_exc, replace=False)\n",
    "n2_exc = np.random.choice(opt_exc, num_exc, replace=False)\n",
    "n3_exc = np.random.choice(opt_exc, num_exc, replace=False)\n",
    "\n",
    "# multimeter and spike detector connections\n",
    "for i in range(num_inh):\n",
    "    # inhibitory\n",
    "    nest.Connect(m[n_devices - 1 - i],p1[n1_inh[i]])\n",
    "    nest.Connect(p1[n1_inh[i]], s[n_devices - 1 - i])\n",
    "    nest.Connect(m[2 * n_devices - 1 - i],p2[n2_inh[i]])\n",
    "    nest.Connect(p2[n2_inh[i]], s[2 * n_devices - 1 - i])\n",
    "    nest.Connect(m[3 * n_devices - 1 - i],p3[n3_inh[i]])\n",
    "    nest.Connect(p3[n3_inh[i]], s[3 * n_devices - 1 - i])\n",
    "    \n",
    "    \n",
    "for i in range(num_exc):\n",
    "    # excitatory\n",
    "    nest.Connect(m[i],p1[n1_exc[i]])\n",
    "    nest.Connect(p1[n1_exc[i]], s[i])\n",
    "    nest.Connect(m[i + n_devices],p2[n2_exc[i]])\n",
    "    nest.Connect(p2[n2_exc[i]], s[i + n_devices])\n",
    "    nest.Connect(m[i + 2 * n_devices],p3[n3_exc[i]])\n",
    "    nest.Connect(p3[n3_exc[i]], s[i + 2 * n_devices]) "
   ]
  },
  {
   "cell_type": "markdown",
   "metadata": {},
   "source": [
    "## Simulation and Evaluation"
   ]
  },
  {
   "cell_type": "code",
   "execution_count": null,
   "metadata": {},
   "outputs": [],
   "source": [
    "def raster_plot():\n",
    "    \n",
    "    num_inh = np.around(n_devices * inh_part)\n",
    "    num_exc = np.around(n_devices * (1 - inh_part))\n",
    "\n",
    "    plt.rcParams[\"figure.figsize\"] = (20,10)\n",
    "\n",
    "    pylab.figure()\n",
    "    for i, sd in enumerate(s):\n",
    "        dSD = nest.GetStatus(sd, keys=\"events\")[0]\n",
    "        ts = dSD[\"times\"]\n",
    "        if i % n_devices >= num_exc:\n",
    "            pylab.plot(ts, [i]*len(ts), \".\", color=\"gray\", markersize=2)\n",
    "        else:\n",
    "            pylab.plot(ts, [i]*len(ts), \".\", color=\"black\", markersize=2)\n",
    "\n",
    "\n",
    "    plt.axhspan(0,num_exc,facecolor=\"lightblue\",alpha=0.2)\n",
    "    plt.axhspan(num_exc,n_devices,facecolor=\"lightblue\",alpha=0.1)\n",
    "    plt.axhspan(n_devices,n_devices + num_exc,facecolor=\"lightgreen\",alpha=0.2)\n",
    "    plt.axhspan(n_devices + num_exc,2 * n_devices,facecolor=\"lightgreen\",alpha=0.1)\n",
    "    plt.axhspan(2 * n_devices,2 * n_devices + num_exc,facecolor=\"blue\",alpha=0.2)\n",
    "    plt.axhspan(2 * n_devices + num_exc,3 * n_devices,facecolor=\"blue\",alpha=0.1)\n",
    "    pylab.title(\"Raster plot\")\n",
    "    pylab.xlabel(\"time in ms\")\n",
    "    pylab.ylabel(\"neuron ID\")\n",
    "    pylab.show()"
   ]
  },
  {
   "cell_type": "code",
   "execution_count": null,
   "metadata": {},
   "outputs": [],
   "source": [
    "plt.rcParams[\"figure.figsize\"] = (20,5)\n",
    "\n",
    "def plot_V(pops=[]):\n",
    "    \n",
    "    for idx, multimeter in enumerate(pops):\n",
    "\n",
    "        dmm = nest.GetStatus(multimeter)[0]\n",
    "        Vms = dmm[\"events\"][\"V_m\"]\n",
    "        ts = dmm[\"events\"][\"times\"]\n",
    "        plt.plot(ts, Vms)\n",
    "    \n",
    "    pylab.title(\"Merged V_ms\")\n",
    "    pylab.legend([\"alhpa\", \"beta\", \"gamma\"])\n",
    "    pylab.xlabel(\"t\")\n",
    "    pylab.ylabel(\"V_m\")\n",
    "    pylab.show()"
   ]
  },
  {
   "cell_type": "code",
   "execution_count": null,
   "metadata": {},
   "outputs": [],
   "source": [
    "from scipy.spatial import KDTree\n",
    "\n",
    "def plot_spikes():\n",
    "    i1 = np.random.randint(n_devices)\n",
    "    i2 = np.random.randint(n_devices, 2 * n_devices)\n",
    "    i3 = np.random.randint(2 * n_devices, 3 * n_devices)\n",
    "    \n",
    "    sd1 = s[i1]\n",
    "    sd2 = s[i2]\n",
    "    sd3 = s[i3]\n",
    "    \n",
    "    ts1 = nest.GetStatus(sd1, keys=\"events\")[0][\"times\"]\n",
    "    ts2 = nest.GetStatus(sd2, keys=\"events\")[0][\"times\"]\n",
    "    ts3 = nest.GetStatus(sd3, keys=\"events\")[0][\"times\"]\n",
    "    \n",
    "    tree1 = KDTree(np.reshape(ts1, (len(ts1), 1)))\n",
    "    tree2 = KDTree(np.reshape(ts2, (len(ts2), 1)))\n",
    "    \n",
    "    nn_dist_12, _ = tree1.query(np.reshape(ts2, (len(ts2), 1)))\n",
    "    nn_dist_13, _ = tree1.query(np.reshape(ts3, (len(ts3), 1)))\n",
    "    nn_dist_23, _ = tree2.query(np.reshape(ts3, (len(ts3), 1)))\n",
    "    \n",
    "    pylab.figure()\n",
    "    \n",
    "    pylab.plot(ts2[1:], nn_dist_12[1:])\n",
    "    pylab.plot(ts3[1:], nn_dist_13[1:])\n",
    "    pylab.plot(ts3[1:], nn_dist_23[1:])\n",
    "    \n",
    "    pylab.plot(ts1, np.full((len(ts1)), 1), \".\")\n",
    "    pylab.plot(ts2, np.full((len(ts2)), 1), \".\")\n",
    "    pylab.plot(ts3, np.full((len(ts3)), 1), \".\")\n",
    "    \n",
    "    pylab.title(\"Spike distances between neurons\")\n",
    "    pylab.legend([\"alpha-beta\", \"alpha-gamma\", \"beta-gamma\"])\n",
    "    pylab.xlabel(\"t\")\n",
    "    pylab.ylabel(\"Distance\")\n",
    "    pylab.show()"
   ]
  },
  {
   "cell_type": "code",
   "execution_count": null,
   "metadata": {},
   "outputs": [],
   "source": [
    "def coinc_hists():\n",
    "    \n",
    "    # config\n",
    "    start_idx = 1500\n",
    "    end_idx = 1800\n",
    "    threshold = .001\n",
    "    n_samples = 300\n",
    "    \n",
    "    offsets = np.arange(-80, 80, 2)\n",
    "    hist12 = np.empty((n_samples, len(offsets)))\n",
    "    hist13 = np.empty((n_samples, len(offsets)))\n",
    "    hist23 = np.empty((n_samples, len(offsets)))\n",
    "    \n",
    "    for sample in range(n_samples):\n",
    "        \n",
    "    \n",
    "        idx1 = np.random.randint(n_devices)\n",
    "        idx2 = np.random.randint(n_devices, 2 * n_devices)\n",
    "        idx3 = np.random.randint(2 * n_devices, 3 * n_devices)\n",
    "\n",
    "        m1 = m[idx1]\n",
    "        m2 = m[idx2]\n",
    "        m3 = m[idx3]\n",
    "\n",
    "        Vms1 = nest.GetStatus(m1)[0][\"events\"][\"V_m\"]\n",
    "        Vms2 = nest.GetStatus(m2)[0][\"events\"][\"V_m\"]\n",
    "        Vms3 = nest.GetStatus(m3)[0][\"events\"][\"V_m\"]\n",
    "\n",
    "        for i, offset in enumerate(offsets):\n",
    "            diff12 = Vms1[start_idx : end_idx] - Vms2[start_idx + offset: end_idx + offset]\n",
    "            diff13 = Vms1[start_idx : end_idx] - Vms3[start_idx + offset: end_idx + offset]\n",
    "            diff23 = Vms2[start_idx : end_idx] - Vms3[start_idx + offset: end_idx + offset]\n",
    "            hist12[sample, i] = len(diff12[np.abs(diff12) < threshold])\n",
    "            hist13[sample, i] = len(diff13[np.abs(diff13) < threshold])\n",
    "            hist23[sample, i] = len(diff23[np.abs(diff23) < threshold])\n",
    "            \n",
    "    hist12_mean = np.mean(hist12, axis=0)\n",
    "    hist13_mean = np.mean(hist13, axis=0)\n",
    "    hist23_mean = np.mean(hist23, axis=0)\n",
    "    \n",
    "    max_y = np.max(hist12_mean) + 1\n",
    "        \n",
    "    pylab.figure()\n",
    "    pylab.title(\"alpha & beta\")\n",
    "    pylab.bar(offsets, hist12_mean)\n",
    "    pylab.ylim(0, max_y)\n",
    "    pylab.show()\n",
    "    pylab.figure()\n",
    "    pylab.title(\"alpha & gamma\")\n",
    "    pylab.bar(offsets, hist13_mean)\n",
    "    pylab.ylim(0, max_y)\n",
    "    pylab.show()\n",
    "    pylab.figure()\n",
    "    pylab.title(\"beta & gamma\")\n",
    "    pylab.bar(offsets, hist23_mean)\n",
    "    pylab.ylim(0, max_y)\n",
    "    pylab.show()"
   ]
  },
  {
   "cell_type": "code",
   "execution_count": null,
   "metadata": {},
   "outputs": [],
   "source": [
    "def firing_hists():\n",
    "\n",
    "    # config\n",
    "    start_t = 0\n",
    "    end_t = 1500\n",
    "    bin_size = 1.\n",
    "    \n",
    "    ts1 = []      \n",
    "    ts2 = []      \n",
    "    ts3 = []    \n",
    "    \n",
    "    for i in range(n_devices):\n",
    "        ts1.append(nest.GetStatus(s[i], keys=\"events\")[0][\"times\"])\n",
    "        ts2.append(nest.GetStatus(s[i + n_devices], keys=\"events\")[0][\"times\"])\n",
    "        ts3.append(nest.GetStatus(s[i + 2 * n_devices], keys=\"events\")[0][\"times\"])\n",
    "        \n",
    "    ts1 = np.hstack(ts1)\n",
    "    ts2 = np.hstack(ts2)\n",
    "    ts3 = np.hstack(ts3)\n",
    "    \n",
    "    bins = np.arange(start_t, end_t, bin_size)\n",
    "    \n",
    "    hist1, _ = np.histogram(ts1, bins=bins)\n",
    "    hist2, _ = np.histogram(ts2, bins=bins)\n",
    "    hist3, _ = np.histogram(ts3, bins=bins)\n",
    "    \n",
    "    bin_means = (bins - bin_size / 2)[1:]\n",
    "    \n",
    "    pylab.figure()\n",
    "    pylab.plot(bin_means, hist1)\n",
    "    pylab.plot(bin_means, hist2)\n",
    "    pylab.plot(bin_means, hist3)\n",
    "    pylab.legend([\"alhpa\", \"beta\", \"gamma\"])\n",
    "    pylab.xlabel(\"t\")\n",
    "    pylab.ylabel(\"Number of spikes\")\n",
    "    pylab.title(\"PTSH\")\n",
    "    pylab.show()"
   ]
  },
  {
   "cell_type": "code",
   "execution_count": null,
   "metadata": {},
   "outputs": [],
   "source": [
    "def sns_plots():\n",
    "\n",
    "    # config\n",
    "    start_idx = 1000\n",
    "    \n",
    "    pal = sns.cubehelix_palette(3, rot=-.5, dark=.3)\n",
    "    \n",
    "    idx1 = np.random.randint(n_devices)\n",
    "    idx2 = np.random.randint(n_devices, 2 * n_devices)\n",
    "    idx3 = np.random.randint(2 * n_devices, 3 * n_devices)\n",
    "\n",
    "    m1 = m[idx1]\n",
    "    m2 = m[idx2]\n",
    "    m3 = m[idx3]\n",
    "\n",
    "    Vms1 = nest.GetStatus(m1)[0][\"events\"][\"V_m\"][start_idx:]\n",
    "    Vms2 = nest.GetStatus(m2)[0][\"events\"][\"V_m\"][start_idx:]\n",
    "    Vms3 = nest.GetStatus(m3)[0][\"events\"][\"V_m\"][start_idx:]\n",
    "\n",
    "    diff12 = Vms1 - Vms2\n",
    "    diff13 = Vms1 - Vms3\n",
    "    diff23 = Vms2 - Vms3\n",
    "    \n",
    "    data = [diff12, diff13, diff23]\n",
    "    sns.violinplot(data=data, palette=pal)"
   ]
  },
  {
   "cell_type": "code",
   "execution_count": null,
   "metadata": {},
   "outputs": [],
   "source": [
    "nest.Simulate(2000)"
   ]
  },
  {
   "cell_type": "code",
   "execution_count": null,
   "metadata": {},
   "outputs": [],
   "source": [
    "firing_hists()"
   ]
  },
  {
   "cell_type": "code",
   "execution_count": null,
   "metadata": {},
   "outputs": [],
   "source": [
    "raster_plot()"
   ]
  },
  {
   "cell_type": "code",
   "execution_count": null,
   "metadata": {},
   "outputs": [],
      "text/plain": [
       "<Figure size 1440x720 with 1 Axes>"
      ]
     },
     "metadata": {
      "needs_background": "light"
     },
     "output_type": "display_data"
    }
   ],
      ]
     },
     "metadata": {
      "needs_background": "light"
     },
     "output_type": "display_data"
    },
    {
     "data": {
   "execution_count": 19,
      "text/plain": [
   "outputs": [
    {
     "data": {
      "image/png": "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\n",
      "text/plain": [
       "<Figure size 1440x720 with 1 Axes>"
      ]
     },
     "metadata": {
      "needs_background": "light"
     },
     "output_type": "display_data"
    }
   ],
      ]
     },
     "metadata": {
      "needs_background": "light"
     },
     "output_type": "display_data"
    },
    {
     "data": {
   "execution_count": 20,
   "source": [
    "coinc_hists()"
   ]
  },
  {
   "cell_type": "code",
   "execution_count": null,
   "metadata": {},
   "outputs": [],
   "source": [
    "sns_plots()"
   ]
  },
  {
   "cell_type": "code",
   "execution_count": null,
   "metadata": {
    "scrolled": false
   },
   "outputs": [],
   "source": [
    "vm1 = np.reshape([nest.GetStatus(mult)[0][\"events\"][\"V_m\"] for mult in m], (300,1999))\n",
    "\n",
    "with open(\"vm1.csv\",\"w+\") as my_csv:\n",
    "    csvWriter = csv.writer(my_csv,delimiter=',')\n",
    "    csvWriter.writerows(vm1)\n",
    "\n",
    "with open(\"sd1.csv\",\"w+\") as my_csv:    \n",
    "    csvWriter = csv.writer(my_csv,delimiter=',')\n",
    "    for spiked in s:\n",
    "        csvWriter.writerow(nest.GetStatus(spiked)[0][\"events\"][\"times\"])\n",
    "    "
   ]
  }
 ],
 "metadata": {
  "kernelspec": {
   "display_name": "Python 3",
   "language": "python",
   "name": "python3"
  },
  "language_info": {
   "codemirror_mode": {
    "name": "ipython",
    "version": 3
   },
   "file_extension": ".py",
   "mimetype": "text/x-python",
   "name": "python",
   "nbconvert_exporter": "python",
   "pygments_lexer": "ipython3",
   "version": "3.7.5"
  }
 },
 "nbformat": 4,
 "nbformat_minor": 2
}
