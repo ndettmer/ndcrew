{
 "cells": [
  {
   "cell_type": "code",
   "execution_count": 1,
   "metadata": {},
   "outputs": [],
   "source": [
    "%matplotlib inline\n",
    "import numpy as np\n",
    "import math\n",
    "import matplotlib.pyplot as plt"
   ]
  },
  {
   "cell_type": "markdown",
   "metadata": {},
   "source": [
    "## Class definition"
   ]
  },
  {
   "cell_type": "code",
   "execution_count": 2,
   "metadata": {},
   "outputs": [],
   "source": [
    "class hh_neuron:\n",
    "    \n",
    "    def __init__(self, config={}):\n",
    "        self.C = 1.\n",
    "        self.g_Na = 120.\n",
    "        self.g_K = 36.\n",
    "        self.g_L = .3\n",
    "        self.E_Na = 50.\n",
    "        self.E_K = -77.\n",
    "        self.E_L = -54.5\n",
    "        self.I_ext = 10.\n",
    "        self.I_syn = 0.\n",
    "        self.tau_d = 3.\n",
    "        self.tau_r = .1\n",
    "        self.sim_n = 1\n",
    "        \n",
    "        if 'C' in config.keys():\n",
    "            self.C = config['C']\n",
    "        if 'g_Na' in config.keys():\n",
    "            self.C = config['g_Na']\n",
    "        if 'g_K' in config.keys():\n",
    "            self.C = config['g_K']\n",
    "        if 'g_L' in config.keys():\n",
    "            self.C = config['g_L']\n",
    "        if 'E_Na' in config.keys():\n",
    "            self.C = config['E_Na']\n",
    "        if 'E_K' in config.keys():\n",
    "            self.C = config['E_K']\n",
    "        if 'E_L' in config.keys():\n",
    "            self.C = config['E_L']\n",
    "        if 'I_ext' in config.keys():\n",
    "            self.C = config['I_ext']\n",
    "        if 'I_syn' in config.keys():\n",
    "            self.C = config['I_syn']\n",
    "        if 'tau_d' in config.keys():\n",
    "            self.C = config['tau_d']\n",
    "        if 'tau_r' in config.keys():\n",
    "            self.C = config['tau_r']\n",
    "\n",
    "    def alpha_m(self, V):\n",
    "        \"\"\"S5\"\"\"\n",
    "        return .1 * (V + 40.) / (1. - np.exp(-(V + 40.) / 10.))\n",
    "\n",
    "    def beta_m(self, V):\n",
    "        \"\"\"S6\"\"\"\n",
    "        return 4. * np.exp(-(V + 65.) / 18.)\n",
    "\n",
    "    def alpha_h(self, V):\n",
    "        \"\"\"S7\"\"\"\n",
    "        return .07 * np.exp(-(V + 65.) / 20.)\n",
    "\n",
    "    def beta_h(self, V):\n",
    "        \"\"\"S8\"\"\"\n",
    "        return 1. / (1 + np.exp(-(V + 35.) / 10.))\n",
    "\n",
    "    def alpha_n(self, V):\n",
    "        \"\"\"S9\"\"\"\n",
    "        return ((V + 55.) / 10.) / (1. - np.exp((-.1) * (V + 55.)))\n",
    "\n",
    "    def beta_n(self, V):\n",
    "        \"\"\"S10\"\"\"\n",
    "        return .125 * np.exp(-(V + 65.) / 80.)\n",
    "\n",
    "    def dm(self, V, m):\n",
    "        \"\"\"S2\"\"\"\n",
    "        a = self.alpha_m(V)\n",
    "        b = self.beta_m(V)\n",
    "\n",
    "        return a * (1. - m) - b * m\n",
    "\n",
    "    def dh(self, V, h):\n",
    "        \"\"\"S3\"\"\"\n",
    "        a = self.alpha_h(V)\n",
    "        b = self.beta_h(V)\n",
    "\n",
    "        return a * (1. - h) - b * h\n",
    "\n",
    "    def dn(self, V, n):\n",
    "        \"\"\"S4\"\"\"\n",
    "        a = self.alpha_n(V)\n",
    "        b = self.beta_n(V)\n",
    "\n",
    "        return a * (1. - n) - b * n\n",
    "\n",
    "    def dV(self, V, m, h, n):\n",
    "        \"\"\"S1\"\"\"\n",
    "        return (- self.g_Na * m ** 3 * h * (V - self.E_Na) \n",
    "                - self.g_K * n ** 4 * (V - self.E_K) \n",
    "                - self.g_L * (V - self.E_L) \n",
    "                + self.I_ext + self.I_syn ) / self.C"
   ]
  },
  {
   "cell_type": "markdown",
   "metadata": {},
   "source": [
    "## Configuration"
   ]
  },
  {
   "cell_type": "code",
   "execution_count": 3,
   "metadata": {},
   "outputs": [],
   "source": [
    "hh_config = {\n",
    "    'C': 1.,\n",
    "    'g_Na': 120.,\n",
    "    'g_K': 36.,\n",
    "    'g_L': .3,\n",
    "    'E_Na': 50.,\n",
    "    'E_K': -77.,\n",
    "    'E_L': -54.5,\n",
    "    'I_ext': 10.\n",
    "}\n",
    "\n",
    "tau_d = 3.\n",
    "tau_r = .1\n",
    "N = 500.\n",
    "\n",
    "step_size = .02\n",
    "t0 = 0.\n",
    "m0 = 0.\n",
    "h0 = 0.\n",
    "n0 = 0.\n",
    "V0 = - 30.\n",
    "\n",
    "t_end = 120.\n",
    "\n",
    "t = np.arange(t0, t_end, step_size)\n",
    "m = np.zeros(t.size)\n",
    "m[0] = m0\n",
    "h = np.zeros(t.size)\n",
    "h[0] = h0\n",
    "n = np.zeros(t.size)\n",
    "n[0] = n0 \n",
    "V = np.zeros(t.size)\n",
    "V[0] = V0\n",
    "\n",
    "hh_1 = hh_neuron(hh_config)"
   ]
  },
  {
   "cell_type": "markdown",
   "metadata": {},
   "source": [
    "## Simulation"
   ]
  },
  {
   "cell_type": "code",
   "execution_count": 4,
   "metadata": {},
   "outputs": [],
   "source": [
    "for i in range(1, t.size):\n",
    "    \n",
    "    # intermediate\n",
    "    m_i = m[i - 1] + step_size * hh_1.dm(V[i - 1], m[i - 1])\n",
    "    h_i = h[i - 1] + step_size * hh_1.dh(V[i - 1], h[i - 1])\n",
    "    n_i = n[i - 1] + step_size * hh_1.dn(V[i - 1], n[i - 1])\n",
    "    V_i = V[i - 1] + step_size * hh_1.dV(V[i - 1], m[i], h[i], n[i])\n",
    " \n",
    "    # heun\n",
    "    m[i] = m[i - 1] + (step_size / 2.) * (hh_1.dm(V[i - 1], m[i - 1]) + hh_1.dm(V_i, m_i))\n",
    "    h[i] = h[i - 1] + (step_size / 2.) * (hh_1.dh(V[i - 1], h[i - 1]) + hh_1.dh(V_i, h_i))\n",
    "    n[i] = n[i - 1] + (step_size / 2.) * (hh_1.dn(V[i - 1], n[i - 1]) + hh_1.dn(V_i, n_i))\n",
    "    V[i] = V[i - 1] + (step_size / 2.) * (hh_1.dV(V[i - 1], m[i], h[i], n[i]) + hh_1.dV(V_i, m[i], h[i], n[i]))\n",
    "    "
   ]
  },
  {
   "cell_type": "markdown",
   "metadata": {},
   "source": [
    "## Plotting"
   ]
  },
  {
   "cell_type": "code",
   "execution_count": null,
   "metadata": {},
   "outputs": [
    {
     "data": {
      "image/png": "[encoded data removed]",
      "text/plain": [
       "<Figure size 432x288 with 1 Axes>"
      ]
     },
     "metadata": {
      "needs_background": "light"
     },
     "output_type": "display_data"
    },
    {
     "data": {
      "image/png": "[encoded data removed]",
      "text/plain": [
       "<Figure size 432x288 with 1 Axes>"
      ]
     },
     "metadata": {
      "needs_background": "light"
     },
     "output_type": "display_data"
    },
    {
     "name": "stdout",
     "output_type": "stream",
     "text": [
      "final V:  -75.01407983692934\n",
      "final m:  0.015398087059238431\n",
      "final h:  0.8651310465715563\n",
      "final n:  0.6885116965918988\n"
     ]
    }
   ],
   "source": [
    "plt.plot(t, V)\n",
    "plt.show()\n",
    "plt.plot(t, m)\n",
    "plt.plot(t, h)\n",
    "plt.plot(t, n)\n",
    "plt.legend([\"m\", \"n\", \"h\"])\n",
    "plt.show()\n",
    "print(\"final V: \", V[-1])\n",
    "print(\"final m: \", m[-1])\n",
    "print(\"final h: \", h[-1])\n",
    "print(\"final n: \", n[-1])"
   ]
  }
 ],
 "metadata": {
  "kernelspec": {
   "display_name": "Python 3",
   "language": "python",
   "name": "python3"
  },
  "language_info": {
   "codemirror_mode": {
    "name": "ipython",
    "version": 3
   },
   "file_extension": ".py",
   "mimetype": "text/x-python",
   "name": "python",
   "nbconvert_exporter": "python",
   "pygments_lexer": "ipython3",
   "version": "3.7.5"
  }
 },
 "nbformat": 4,
 "nbformat_minor": 2
}
