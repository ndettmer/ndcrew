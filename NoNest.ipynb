{
 "cells": [
  {
   "cell_type": "code",
   "execution_count": 1,
   "metadata": {},
   "outputs": [],
   "source": [
    "%matplotlib inline\n",
    "import numpy as np\n",
    "import math\n",
    "import matplotlib.pyplot as plt"
   ]
  },
  {
   "cell_type": "markdown",
   "metadata": {},
   "source": [
    "## Class definition"
   ]
  },
  {
   "cell_type": "code",
   "execution_count": 2,
   "metadata": {},
   "outputs": [],
   "source": [
    "class hh_neuron:\n",
    "    \n",
    "    def __init__(self, config={}):\n",
    "        self.C = 1.\n",
    "        self.g_Na = 120.\n",
    "        self.g_K = 36.\n",
    "        self.g_L = .3\n",
    "        self.E_Na = 50.\n",
    "        self.E_K = -77.\n",
    "        self.E_L = -54.5\n",
    "        self.I_ext = 10.\n",
    "        self.I_syn = 0.\n",
    "        self.tau_d = 3.\n",
    "        self.tau_r = .1\n",
    "        self.sim_n = 1\n",
    "        self.m = []\n",
    "        self.n = []\n",
    "        self.h = []\n",
    "        self.V = []\n",
    "        \n",
    "        if 'C' in config.keys():\n",
    "            self.C = config['C']\n",
    "        if 'g_Na' in config.keys():\n",
    "            self.g_NA = config['g_Na']\n",
    "        if 'g_K' in config.keys():\n",
    "            self.g_K = config['g_K']\n",
    "        if 'g_L' in config.keys():\n",
    "            self.g_L = config['g_L']\n",
    "        if 'E_Na' in config.keys():\n",
    "            self.E_Na = config['E_Na']\n",
    "        if 'E_K' in config.keys():\n",
    "            self.E_K = config['E_K']\n",
    "        if 'E_L' in config.keys():\n",
    "            self.E_L = config['E_L']\n",
    "        if 'I_ext' in config.keys():\n",
    "            self.I_ext = config['I_ext']\n",
    "        if 'I_syn' in config.keys():\n",
    "            self.I_syn = config['I_syn']\n",
    "        if 'tau_d' in config.keys():\n",
    "            self.tau_d = config['tau_d']\n",
    "        if 'tau_r' in config.keys():\n",
    "            self.tau_r = config['tau_r']\n",
    "\n",
    "\n",
    "    def alpha_m(self, V):\n",
    "        \"\"\"S5\"\"\"\n",
    "        return .1 * (V + 40.) / (1. - np.exp(-(V + 40.) / 10.))\n",
    "\n",
    "    def beta_m(self, V):\n",
    "        \"\"\"S6\"\"\"\n",
    "        return 4. * np.exp(-(V + 65.) / 18.)\n",
    "\n",
    "    def alpha_h(self, V):\n",
    "        \"\"\"S7\"\"\"\n",
    "        return .07 * np.exp(-(V + 65.) / 20.)\n",
    "\n",
    "    def beta_h(self, V):\n",
    "        \"\"\"S8\"\"\"\n",
    "        return 1. / (1 + np.exp(-(V + 35.) / 10.))\n",
    "\n",
    "    def alpha_n(self, V):\n",
    "        \"\"\"S9\"\"\"\n",
    "        return ((V + 55.) / 100.) / (1. - np.exp((-.1) * (V + 55.)))\n",
    "\n",
    "    def beta_n(self, V):\n",
    "        \"\"\"S10\"\"\"\n",
    "        return .125 * np.exp(-(V + 65.) / 80.)\n",
    "\n",
    "    def dm(self, V, m):\n",
    "        \"\"\"S2\"\"\"\n",
    "        a = self.alpha_m(V)\n",
    "        b = self.beta_m(V)\n",
    "\n",
    "        return a * (1. - m) - b * m\n",
    "\n",
    "    def dh(self, V, h):\n",
    "        \"\"\"S3\"\"\"\n",
    "        a = self.alpha_h(V)\n",
    "        b = self.beta_h(V)\n",
    "\n",
    "        return a * (1. - h) - b * h\n",
    "\n",
    "    def dn(self, V, n):\n",
    "        \"\"\"S4\"\"\"\n",
    "        a = self.alpha_n(V)\n",
    "        b = self.beta_n(V)\n",
    "\n",
    "        return a * (1. - n) - b * n\n",
    "\n",
    "    def dV(self, V, m, h, n):\n",
    "        \"\"\"S1\"\"\"\n",
    "        return (- self.g_Na * m ** 3 * h * (V - self.E_Na) \n",
    "                - self.g_K * n ** 4 * (V - self.E_K) \n",
    "                - self.g_L * (V - self.E_L) \n",
    "                + self.I_ext + self.I_syn ) / self.C"
   ]
  },
  {
   "cell_type": "markdown",
   "metadata": {},
   "source": [
    "## Configuration"
   ]
  },
  {
   "cell_type": "code",
   "execution_count": 3,
   "metadata": {},
   "outputs": [],
   "source": [
    "hh_config = {\n",
    "    'C': 1.,\n",
    "    'g_Na': 120.,\n",
    "    'g_K': 36.,\n",
    "    'g_L': .3,\n",
    "    'E_Na': 50.,\n",
    "    'E_K': -77.,\n",
    "    'E_L': -54.5,\n",
    "    'I_ext': 10.\n",
    "}\n",
    "\n",
    "#tau_d = 3.\n",
    "#tau_r = .1\n",
    "#N = 500."
   ]
  },
  {
   "cell_type": "markdown",
   "metadata": {},
   "source": [
    "## Simulation"
   ]
  },
  {
   "cell_type": "code",
   "execution_count": 4,
   "metadata": {},
   "outputs": [],
   "source": [
    "def simulate(neuron, start_time, end_time, step_size, V0):\n",
    "    \n",
    "    t = np.arange(start_time, end_time, step_size)\n",
    "    \n",
    "    m0 = np.random.random()\n",
    "    n0 = np.random.random()\n",
    "    h0 = np.random.random()\n",
    "    \n",
    "    neuron.m = np.zeros(t.size)\n",
    "    neuron.m[0] = m0\n",
    "    neuron.h = np.zeros(t.size)\n",
    "    neuron.h[0] = h0\n",
    "    neuron.n = np.zeros(t.size)\n",
    "    neuron.n[0] = n0 \n",
    "    neuron.V = np.zeros(t.size)\n",
    "    neuron.V[0] = V0\n",
    "    \n",
    "    # calculate new m, n, h and V\n",
    "    for i in range(1, t.size):\n",
    "    \n",
    "        # intermediate\n",
    "        m_i = neuron.m[i - 1] + step_size * neuron.dm(neuron.V[i - 1], neuron.m[i - 1])\n",
    "        h_i = neuron.h[i - 1] + step_size * neuron.dh(neuron.V[i - 1], neuron.h[i - 1])\n",
    "        n_i = neuron.n[i - 1] + step_size * neuron.dn(neuron.V[i - 1], neuron.n[i - 1])\n",
    "        V_i = neuron.V[i - 1] + step_size * neuron.dV(neuron.V[i - 1], neuron.m[i], neuron.h[i], neuron.n[i])\n",
    "\n",
    "        # heun\n",
    "        neuron.m[i] = neuron.m[i - 1] + (step_size / 2.) * (neuron.dm(neuron.V[i - 1], neuron.m[i - 1]) + neuron.dm(V_i, m_i))\n",
    "        neuron.h[i] = neuron.h[i - 1] + (step_size / 2.) * (neuron.dh(neuron.V[i - 1], neuron.h[i - 1]) + neuron.dh(V_i, h_i))\n",
    "        neuron.n[i] = neuron.n[i - 1] + (step_size / 2.) * (neuron.dn(neuron.V[i - 1], neuron.n[i - 1]) + neuron.dn(V_i, n_i))\n",
    "        neuron.V[i] = neuron.V[i - 1] + (step_size / 2.) * (neuron.dV(neuron.V[i - 1], neuron.m[i], neuron.h[i], neuron.n[i]) + neuron.dV(V_i, neuron.m[i], neuron.h[i], neuron.n[i]))"
   ]
  },
  {
   "cell_type": "markdown",
   "metadata": {},
   "source": [
    "## Plotting"
   ]
  },
  {
   "cell_type": "code",
   "execution_count": 8,
   "metadata": {},
   "outputs": [],
   "source": [
    "def plot_V(neurons):\n",
    "    \n",
    "    for neuron in neurons:\n",
    "\n",
    "        t = np.arange(0, len(neuron.V))\n",
    "        plt.plot(t, neuron.V)\n",
    "        \n",
    "    plt.show()\n",
    "    #plt.plot(t, neuron.m)\n",
    "    #plt.plot(t, neuron.h)\n",
    "    #plt.plot(t, neuron.n)\n",
    "    #plt.legend([\"m\", \"h\", \"n\"])\n",
    "    #plt.show()"
   ]
  },
  {
   "cell_type": "markdown",
   "metadata": {},
   "source": [
    "# Experiment 1"
   ]
  },
  {
   "cell_type": "code",
   "execution_count": 13,
   "metadata": {},
   "outputs": [
    {
     "data": {
      "image/png": "[encoded data removed]",
      "text/plain": [
       "<Figure size 432x288 with 1 Axes>"
      ]
     },
     "metadata": {
      "needs_background": "light"
     },
     "output_type": "display_data"
    }
   ],
   "source": [
    "hh_1 = hh_neuron(hh_config)\n",
    "simulate(hh_1, 0, 120, 0.02, -30)\n",
    "\n",
    "hh_2 = hh_neuron(hh_config)\n",
    "simulate(hh_2, 0, 120, 0.02, -70)\n",
    "\n",
    "plot_V([hh_1,hh_2])"
   ]
  },
  {
   "cell_type": "code",
   "execution_count": null,
   "metadata": {},
   "outputs": [],
   "source": []
  }
 ],
 "metadata": {
  "kernelspec": {
   "display_name": "Python 3",
   "language": "python",
   "name": "python3"
  },
  "language_info": {
   "codemirror_mode": {
    "name": "ipython",
    "version": 3
   },
   "file_extension": ".py",
   "mimetype": "text/x-python",
   "name": "python",
   "nbconvert_exporter": "python",
   "pygments_lexer": "ipython3",
   "version": "3.7.5"
  }
 },
 "nbformat": 4,
 "nbformat_minor": 2
}
