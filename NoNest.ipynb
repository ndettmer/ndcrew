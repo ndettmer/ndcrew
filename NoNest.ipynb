{
 "cells": [
  {
   "cell_type": "code",
   "execution_count": 1,
   "metadata": {},
   "outputs": [],
   "source": [
    "%matplotlib inline\n",
    "import numpy as np\n",
    "import matplotlib.pyplot as plt\n",
    "plt.rcParams[\"figure.figsize\"] = (20, 3)"
   ]
  },
  {
   "cell_type": "markdown",
   "metadata": {},
   "source": [
    "## Classes and functions"
   ]
  },
  {
   "cell_type": "code",
   "execution_count": 2,
   "metadata": {},
   "outputs": [],
   "source": [
    "from scipy.signal import argrelextrema, find_peaks\n",
    "\n",
    "def get_spike_times(ts, V):\n",
    "    spike_idx = find_peaks(V, height=(25., 42.), distance=14.)[0]\n",
    "    return ts[spike_idx]\n",
    "\n",
    "def get_idx(t):\n",
    "    return np.around(t / step_size).astype(np.int32)"
   ]
  },
  {
   "cell_type": "markdown",
   "metadata": {},
   "source": [
    "### S12 transformation\n",
    "$$I_{syn}(t) = - \\frac{g_{max}}{N} \\sum_{\\tau_l} \\sum_{spikes} \\alpha(t - t_{spike} - \\tau_l) (V(t) - E_{syn})$$\n",
    "$$I_{syn}(t) = - \\frac{g_{max}}{N} \\sum_{\\tau_l} \\sum_{spikes} (\\alpha(t) - \\alpha(t_{spike}) - \\alpha(\\tau_l)) (V(t) - E_{syn})$$\n",
    "$$I_{syn}(t) = - \\frac{g_{max}}{N} (V(t) - E_{syn}) \\sum_{\\tau_l} \\left(\\sum_{spikes} \\alpha(t) - \\alpha(t_{spike})\\right) - \\alpha(\\tau_l) $$"
   ]
  },
  {
   "cell_type": "code",
   "execution_count": 3,
   "metadata": {},
   "outputs": [],
   "source": [
    "class hh_neuron:\n",
    "    \n",
    "    def __init__(self, my_id, config={}):\n",
    "        self.C = 1.\n",
    "        self.g_Na = 120.\n",
    "        self.g_K = 36.\n",
    "        self.g_L = .3\n",
    "        self.E_Na = 50.\n",
    "        self.E_K = -77.\n",
    "        self.E_L = -54.5\n",
    "        self.I_ext = 10.\n",
    "        self.tau_d = 3.\n",
    "        self.tau_r = .1\n",
    "        self.sim_n = 1\n",
    "        self.id = my_id\n",
    "        \n",
    "        if 'C' in config.keys():\n",
    "            self.C = config['C']\n",
    "        if 'g_Na' in config.keys():\n",
    "            self.g_Na = config['g_Na']\n",
    "        if 'g_K' in config.keys():\n",
    "            self.g_K = config['g_K']\n",
    "        if 'g_L' in config.keys():\n",
    "            self.g_L = config['g_L']\n",
    "        if 'E_Na' in config.keys():\n",
    "            self.E_Na = config['E_Na']\n",
    "        if 'E_K' in config.keys():\n",
    "            self.E_K = config['E_K']\n",
    "        if 'E_L' in config.keys():\n",
    "            self.E_L = config['E_L']\n",
    "        if 'I_ext' in config.keys():\n",
    "            self.I_ext = config['I_ext']\n",
    "        if 'tau_d' in config.keys():\n",
    "            self.tau_d = config['tau_d']\n",
    "        if 'tau_r' in config.keys():\n",
    "            self.tau_r = config['tau_r']\n",
    "        \n",
    "        self.inc = []\n",
    "        self.outc = []\n",
    "        self.V = None\n",
    "        self.m = None\n",
    "        self.h = None\n",
    "        self.n = None\n",
    "\n",
    "    def alpha_m(self, V):\n",
    "        \"\"\"S5\"\"\"\n",
    "        return .1 * (V + 40.) / (1. - np.exp(-(V + 40.) / 10.))\n",
    "\n",
    "    def beta_m(self, V):\n",
    "        \"\"\"S6\"\"\"\n",
    "        return 4. * np.exp(-(V + 65.) / 18.)\n",
    "\n",
    "    def alpha_h(self, V):\n",
    "        \"\"\"S7\"\"\"\n",
    "        return .07 * np.exp(-(V + 65.) / 20.)\n",
    "\n",
    "    def beta_h(self, V):\n",
    "        \"\"\"S8\"\"\"\n",
    "        return 1. / (1. + np.exp(-(V + 35.) / 10.))\n",
    "\n",
    "    def alpha_n(self, V):\n",
    "        \"\"\"S9\n",
    "        \"/ 10\" appears to be a typo in the paper.\n",
    "        Other resources say \"/ 100\" \"\"\"\n",
    "        return ((V + 55.) / 100.) / (1. - np.exp((-.1) * (V + 55.)))\n",
    "\n",
    "    def beta_n(self, V):\n",
    "        \"\"\"S10\"\"\"\n",
    "        return .125 * np.exp(-(V + 65.) / 80.)\n",
    "\n",
    "    def dm(self, V, m):\n",
    "        \"\"\"S2\"\"\"\n",
    "        a = self.alpha_m(V)\n",
    "        b = self.beta_m(V)\n",
    "\n",
    "        return a * (1. - m) - b * m\n",
    "\n",
    "    def dh(self, V, h):\n",
    "        \"\"\"S3\"\"\"\n",
    "        a = self.alpha_h(V)\n",
    "        b = self.beta_h(V)\n",
    "\n",
    "        return a * (1. - h) - b * h\n",
    "\n",
    "    def dn(self, V, n):\n",
    "        \"\"\"S4\"\"\"\n",
    "        a = self.alpha_n(V)\n",
    "        b = self.beta_n(V)\n",
    "\n",
    "        return a * (1. - n) - b * n\n",
    "\n",
    "    def dV(self, t, V, m, h, n):\n",
    "        \"\"\"S1\"\"\"\n",
    "        I_syn = self.I_syn(t)\n",
    "        \n",
    "        return (- self.g_Na * m ** 3 * h * (V - self.E_Na) \n",
    "                - self.g_K * n ** 4 * (V - self.E_K) \n",
    "                - self.g_L * (V - self.E_L) \n",
    "                + self.I_ext + I_syn ) / self.C\n",
    "    \n",
    "    def setup(self, size, m0, h0, n0, V0):\n",
    "        self.m = np.zeros((size))\n",
    "        self.h = np.zeros((size))\n",
    "        self.n = np.zeros((size))\n",
    "        self.V = np.zeros((size))\n",
    "        \n",
    "        self.m[0] = m0\n",
    "        self.h[0] = h0\n",
    "        self.n[0] = n0\n",
    "        self.V[0] = V0\n",
    "    \n",
    "    def register_in(self, connection):\n",
    "        self.inc.append(connection)\n",
    "        \n",
    "    def register_out(self, connection):\n",
    "        self.outc.append(connection)\n",
    "    \n",
    "    def alpha(self, t):\n",
    "        \"\"\"S11\"\"\"\n",
    "        return (np.exp(-t / tau_d) - np.exp(-t / tau_r)) / (tau_d - tau_r)\n",
    "    \n",
    "    def I_syn(self, t): \n",
    "        \"\"\"S12\"\"\"\n",
    "        idx = get_idx(t)\n",
    "        I_syn = 0.\n",
    "        \n",
    "        for c in self.inc:\n",
    "            \n",
    "            # calculate alpha for each combination of t_spike and tau_l values\n",
    "            t_spike_grid, tau_l_grid = np.meshgrid(get_spike_times(ts[:idx-1], c.neuron_a.V[:idx-1]), c.tau_ls)\n",
    "            alphas = self.alpha(t - t_spike_grid - tau_l_grid)\n",
    "            \n",
    "            # S12 summed up over all incomming connections\n",
    "            I_syn -= g_max / N * np.sum(alphas) * (c.neuron_a.V[idx] - c.E_syn)\n",
    "    \n",
    "        return I_syn\n",
    "    \n",
    "    def get_input_delays(self):\n",
    "        d = self.inc[0].tau_ls\n",
    "        for c in self.inc[1:]:\n",
    "            np.concatenate((d, c.tau_ls))\n",
    "        return d\n",
    "                                    \n",
    "    def get_input_potentials(self):\n",
    "        p = []\n",
    "        for c in self.inc:\n",
    "            p.append(np.full((int(N)), c.E_syn))\n",
    "        return np.array(p)\n",
    "                                    \n",
    "    def heun_step(self, t):\n",
    "        i = get_idx(t)\n",
    "                                   \n",
    "        # intermediate\n",
    "        m_i = self.m[i-1] + step_size * self.dm(self.V[i-1], self.m[i-1])\n",
    "        h_i = self.h[i-1] + step_size * self.dh(self.V[i-1], self.h[i-1])\n",
    "        n_i = self.n[i-1] + step_size * self.dn(self.V[i-1], self.n[i-1])\n",
    "        V_i = self.V[i-1] + step_size * self.dV(t-step_size, self.V[i-1], self.m[i-1], self.h[i-1], self.n[i-1])\n",
    "                                   \n",
    "        # final\n",
    "        self.m[i] = self.m[i-1] + (step_size / 2.) * (self.dm(self.V[i-1], self.m[i-1]) + self.dm(V_i, m_i))\n",
    "        self.h[i] = self.h[i-1] + (step_size / 2.) * (self.dh(self.V[i-1], self.h[i-1]) + self.dh(V_i, h_i))\n",
    "        self.n[i] = self.n[i-1] + (step_size / 2.) * (self.dn(self.V[i-1], self.n[i-1]) + self.dn(V_i, n_i))\n",
    "        self.V[i] = self.V[i-1] + (step_size / 2.) * (self.dV(t-step_size, self.V[i-1], self.m[i-1], self.h[i-1], self.n[i-1]) + self.dV(t, V_i, m_i, h_i, n_i))\n",
    "     \n",
    "    def get_phase(self, t):\n",
    "        \"\"\"\n",
    "        returns the angle of the polar coordinates \n",
    "        of n(t) (~y) and V(t) (~x)\n",
    "        \"\"\"\n",
    "        \n",
    "        i = get_idx(t)\n",
    "        \n",
    "        # translate to origin according to the \n",
    "        # precalculated phase cycle\n",
    "        V_transl = (self.V[i] - V_phase_mean) / (V_phase_max - V_phase_min)\n",
    "        n_transl = (self.n[i] - n_phase_mean) / (n_phase_max - n_phase_min)\n",
    "        \n",
    "        # alpha = arctan(y / x), alpha in [-pi, +pi]\n",
    "        # shift by pi to get alpha within [0, 2pi]\n",
    "        phase = np.arctan(n_transl / V_transl) + np.pi\n",
    "        return phase"
   ]
  },
  {
   "cell_type": "code",
   "execution_count": 4,
   "metadata": {},
   "outputs": [],
   "source": [
    "class Connection():\n",
    "    \n",
    "    def __init__(self, neuron_a, neuron_b, tau_ls, E_syn):\n",
    "        self.neuron_a = neuron_a\n",
    "        self.neuron_b = neuron_b\n",
    "        self.neuron_a.register_out(self)\n",
    "        self.neuron_b.register_in(self)\n",
    "        self.tau_ls = np.array(tau_ls)\n",
    "        self.E_syn = E_syn"
   ]
  },
  {
   "cell_type": "markdown",
   "metadata": {},
   "source": [
    "## Configuration"
   ]
  },
  {
   "cell_type": "code",
   "execution_count": 5,
   "metadata": {},
   "outputs": [],
   "source": [
    "np.random.seed(42)\n",
    "\n",
    "hh_config = {\n",
    "    'C': 1.,\n",
    "    'g_Na': 120.,\n",
    "    'g_K': 36.,\n",
    "    'g_L': .3,\n",
    "    'E_Na': 50.,\n",
    "    'E_K': -77.,\n",
    "    'E_L': -54.5,\n",
    "    'I_ext': 10.\n",
    "}\n",
    "\n",
    "tau_d = 3.\n",
    "tau_r = .1\n",
    "g_max = .05\n",
    "N = 5.\n",
    "tau_ls = np.full((int(N)), .8)\n",
    "#tau_ls = np.random.gamma(1., .8, (int(N)))\n",
    "E_syn = 0.\n",
    "\n",
    "step_size = .02\n",
    "t0 = 0.\n",
    "m0 = 0.05\n",
    "h0 = 0.6\n",
    "n0 = 0.32\n",
    "V0 = -30.\n",
    "\n",
    "t_end = 3000.\n",
    "\n",
    "ts = np.arange(t0, t_end, step_size)\n",
    "\n",
    "hh_alpha = hh_neuron(0, hh_config)\n",
    "hh_beta = hh_neuron(1, hh_config)\n",
    "hh_gamma = hh_neuron(2, hh_config)\n",
    "neurons = [hh_alpha, hh_beta, hh_gamma]"
   ]
  },
  {
   "cell_type": "markdown",
   "metadata": {},
   "source": [
    "## Simulation"
   ]
  },
  {
   "cell_type": "code",
   "execution_count": 6,
   "metadata": {},
   "outputs": [],
   "source": [
    "def simulate(ts):\n",
    "    for t in ts[1:]:\n",
    "        for neuron in neurons:\n",
    "            neuron.heun_step(t)"
   ]
  },
  {
   "cell_type": "code",
   "execution_count": 7,
   "metadata": {},
   "outputs": [
    {
     "data": {
      "image/png": "[encoded data removed]",
      "text/plain": [
       "<Figure size 432x288 with 1 Axes>"
      ]
     },
     "metadata": {
      "needs_background": "light"
     },
     "output_type": "display_data"
    },
    {
     "data": {
      "image/png": "[encoded data removed]",
      "text/plain": [
       "<Figure size 432x288 with 1 Axes>"
      ]
     },
     "metadata": {
      "needs_background": "light"
     },
     "output_type": "display_data"
    }
   ],
   "source": [
    "# warmup\n",
    "ts_wu = np.arange(0, 14.7 * 3., step_size)\n",
    "for neuron in neurons:\n",
    "    neuron.setup(ts_wu.size, m0, h0, n0, V0)\n",
    "simulate(ts_wu)\n",
    "\n",
    "\n",
    "# save one phase of n and V\n",
    "\n",
    "# warmup is 3 phases long, so cut the last third \n",
    "# to securely get data, which is already following the phase dynamics\n",
    "start_idx = int(14.5 * 2 / step_size)\n",
    "V_phase = neurons[0].V[start_idx:]\n",
    "n_phase = neurons[0].n[start_idx:]\n",
    "\n",
    "# calculate the centroid of the phase cycle\n",
    "V_phase_mean = np.mean(V_phase)\n",
    "n_phase_mean = np.mean(n_phase)\n",
    "V_phase_min = np.min(V_phase)\n",
    "n_phase_min = np.min(n_phase)\n",
    "V_phase_max = np.max(V_phase)\n",
    "n_phase_max = np.max(n_phase)\n",
    "\n",
    "# plot cycle without transformation\n",
    "plt.plot(V_phase, n_phase, \".\")\n",
    "plt.plot(V_phase_mean, n_phase_mean, \"x\")\n",
    "plt.legend([\"Phase cycle\", \"Centroid\"])\n",
    "plt.ylabel(\"n(t)\")\n",
    "plt.xlabel(\"V(t)\")\n",
    "plt.title(\"Phase cycle\")\n",
    "plt.show()\n",
    "\n",
    "# translate the phase cycle to the origin\n",
    "V_phase -= V_phase_mean\n",
    "n_phase -= n_phase_mean\n",
    "\n",
    "# scale cycle for phase determination\n",
    "V_phase /= V_phase_max - V_phase_min\n",
    "n_phase /= n_phase_max - n_phase_min\n",
    "\n",
    "# plot cycle with transformation\n",
    "plt.plot(V_phase, n_phase, \".\")\n",
    "plt.plot(np.mean(V_phase), np.mean(n_phase), \"x\")\n",
    "plt.legend([\"Phase cycle\", \"Centroid\"])\n",
    "plt.ylabel(\"n(t)\")\n",
    "plt.xlabel(\"V(t)\")\n",
    "plt.title(\"Phase cycle transformed\")\n",
    "plt.show()"
   ]
  },
  {
   "cell_type": "code",
   "execution_count": 8,
   "metadata": {},
   "outputs": [],
   "source": [
    "# cut first phase\n",
    "phase_len = int(14.7 / step_size)\n",
    "for neuron in neurons:    \n",
    "    neuron.m = neuron.m[phase_len:]\n",
    "    neuron.h = neuron.h[phase_len:]\n",
    "    neuron.n = neuron.n[phase_len:]\n",
    "    neuron.V = neuron.V[phase_len:]\n",
    "\n",
    "# shift phases randomly and reset neurons with new random states\n",
    "for neuron in neurons:\n",
    "    shift = int(np.random.rand() * 14.7 / step_size)\n",
    "    \n",
    "    m0 = np.roll(neuron.m, shift)[0]\n",
    "    h0 = np.roll(neuron.h, shift)[0]\n",
    "    n0 = np.roll(neuron.n, shift)[0]\n",
    "    V0 = np.roll(neuron.V, shift)[0]\n",
    "    \n",
    "    neuron.setup(ts.size, m0, h0, n0, V0)\n",
    "    \n",
    "# connect neurons\n",
    "connections = []\n",
    "connections.append(Connection(hh_alpha, hh_gamma, tau_ls, E_syn))\n",
    "connections.append(Connection(hh_gamma, hh_alpha, tau_ls, E_syn))\n",
    "connections.append(Connection(hh_beta, hh_gamma, tau_ls, E_syn))\n",
    "connections.append(Connection(hh_gamma, hh_alpha, tau_ls, E_syn))\n",
    "    \n",
    "# simulate\n",
    "simulate(ts)"
   ]
  },
  {
   "cell_type": "markdown",
   "metadata": {},
   "source": [
    "## Evaluation"
   ]
  },
  {
   "cell_type": "code",
   "execution_count": 9,
   "metadata": {},
   "outputs": [],
   "source": [
    "def p(t, m, n):\n",
    "    \"\"\"S16\"\"\"\n",
    "    i = np.sqrt(-1 + 0j)\n",
    "    return .5 * np.abs(np.exp(i * m.get_phase(t)) + np.exp(i * n.get_phase(t)))"
   ]
  },
  {
   "cell_type": "code",
   "execution_count": 10,
   "metadata": {},
   "outputs": [
    {
     "data": {
      "image/png": "[encoded data removed]",
      "text/plain": [
       "<Figure size 432x288 with 1 Axes>"
      ]
     },
     "metadata": {
      "needs_background": "light"
     },
     "output_type": "display_data"
    },
    {
     "data": {
      "image/png": "[encoded data removed]",
      "text/plain": [
       "<Figure size 432x288 with 1 Axes>"
      ]
     },
     "metadata": {
      "needs_background": "light"
     },
     "output_type": "display_data"
    },
    {
     "data": {
      "image/png": "[encoded data removed]",
      "text/plain": [
       "<Figure size 432x288 with 1 Axes>"
      ]
     },
     "metadata": {
      "needs_background": "light"
     },
     "output_type": "display_data"
    },
    {
     "data": {
      "image/png": "[encoded data removed]",
      "text/plain": [
       "<Figure size 432x288 with 1 Axes>"
      ]
     },
     "metadata": {
      "needs_background": "light"
     },
     "output_type": "display_data"
    },
    {
     "data": {
      "image/png": "[encoded data removed]",
      "text/plain": [
       "<Figure size 432x288 with 1 Axes>"
      ]
     },
     "metadata": {
      "needs_background": "light"
     },
     "output_type": "display_data"
    }
   ],
   "source": [
    "# only plot alpha and beta to visualize synchrony\n",
    "for neuron in neurons[:-1]:\n",
    "    plt.plot(ts[5000:], neuron.V[5000:])\n",
    "plt.legend([\"alpha\", \"beta\", \"gamma\"])\n",
    "plt.title(\"Membrane potential\")\n",
    "plt.ylabel(\"V_m\")\n",
    "plt.xlabel(\"t\")\n",
    "plt.show()\n",
    "\n",
    "# plot spikes\n",
    "for neuron in neurons[:-1]:\n",
    "    spike_idx = argrelextrema(neuron.V, np.greater)[0]\n",
    "    y_val = np.full(len(spike_idx), 1)\n",
    "    plt.plot(ts[spike_idx], y_val, \".\")\n",
    "plt.legend([\"alhpa\", \"beta\", \"gamma\"])\n",
    "plt.title(\"Detected spikes\")\n",
    "plt.xlabel(\"t\")\n",
    "plt.show()\n",
    "\n",
    "# phase lengths\n",
    "sta = get_spike_times(ts, neurons[0].V)\n",
    "pla = []\n",
    "for i in range(1, sta.shape[0]):\n",
    "    pla.append(sta[i] - sta[i-1])\n",
    "\n",
    "stb = get_spike_times(ts, neurons[1].V)\n",
    "plb = []\n",
    "for i in range(1, stb.shape[0]):\n",
    "    plb.append(stb[i] - stb[i-1])\n",
    "\n",
    "plt.plot(sta[1:], pla)\n",
    "plt.plot(stb[1:], plb)\n",
    "plt.legend([\"aplha\", \"beta\"])\n",
    "plt.title(\"Time difference between spike i and spike i-1\")\n",
    "plt.xlabel(\"t\")\n",
    "plt.ylabel(\"dt\")\n",
    "plt.show()\n",
    "\n",
    "# nearest spike neighbor\n",
    "from scipy.spatial import KDTree\n",
    "sta = np.reshape(sta, (sta.shape[0], 1))\n",
    "stb = np.reshape(stb, (stb.shape[0], 1))\n",
    "alpha_tree = KDTree(sta)\n",
    "nn_dist, nn_idx = alpha_tree.query(stb, 1)\n",
    "plt.plot(stb[1:], nn_dist[1:])\n",
    "plt.title(\"Distance from alphas spikes to their nearest neighbors in betas spikes\")\n",
    "plt.ylabel(\"spike_dist\")\n",
    "plt.xlabel(\"t\")\n",
    "plt.show()\n",
    "\n",
    "# synchrony measure\n",
    "ps = []\n",
    "ps = p(ts, neurons[0], neurons[1])\n",
    "plt.plot(ts, ps)\n",
    "plt.title(\"Synchrony measure p(t)\")\n",
    "plt.ylabel(\"p(t)\")\n",
    "plt.xlabel(\"t\")\n",
    "plt.show()"
   ]
  }
 ],
 "metadata": {
  "kernelspec": {
   "display_name": "Python 3",
   "language": "python",
   "name": "python3"
  },
  "language_info": {
   "codemirror_mode": {
    "name": "ipython",
    "version": 3
   },
   "file_extension": ".py",
   "mimetype": "text/x-python",
   "name": "python",
   "nbconvert_exporter": "python",
   "pygments_lexer": "ipython3",
   "version": "3.7.5"
  }
 },
 "nbformat": 4,
 "nbformat_minor": 2
}
