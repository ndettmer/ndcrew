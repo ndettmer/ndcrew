{
 "cells": [
  {
   "cell_type": "code",
   "execution_count": 1,
   "metadata": {},
   "outputs": [],
   "source": [
    "%matplotlib inline\n",
    "import numpy as np\n",
    "import matplotlib.pyplot as plt"
   ]
  },
  {
   "cell_type": "markdown",
   "metadata": {},
   "source": [
    "## Class definition"
   ]
  },
  {
   "cell_type": "code",
   "execution_count": 2,
   "metadata": {},
   "outputs": [],
   "source": [
    "class hh_neuron:\n",
    "    \n",
    "    def __init__(self, config={}):\n",
    "        self.C = 1.\n",
    "        self.g_Na = 120.\n",
    "        self.g_K = 36.\n",
    "        self.g_L = .3\n",
    "        self.E_Na = 50.\n",
    "        self.E_K = -77.\n",
    "        self.E_L = -54.5\n",
    "        self.I_ext = 10.\n",
    "        self.I_syn = 0.\n",
    "        self.tau_d = 3.\n",
    "        self.tau_r = .1\n",
    "        self.sim_n = 1\n",
    "        \n",
    "        if 'C' in config.keys():\n",
    "            self.C = config['C']\n",
    "        if 'g_Na' in config.keys():\n",
    "            self.g_Na = config['g_Na']\n",
    "        if 'g_K' in config.keys():\n",
    "            self.g_K = config['g_K']\n",
    "        if 'g_L' in config.keys():\n",
    "            self.g_L = config['g_L']\n",
    "        if 'E_Na' in config.keys():\n",
    "            self.E_Na = config['E_Na']\n",
    "        if 'E_K' in config.keys():\n",
    "            self.E_K = config['E_K']\n",
    "        if 'E_L' in config.keys():\n",
    "            self.E_L = config['E_L']\n",
    "        if 'I_ext' in config.keys():\n",
    "            self.I_ext = config['I_ext']\n",
    "        if 'I_syn' in config.keys():\n",
    "            self.I_syn = config['I_syn']\n",
    "        if 'tau_d' in config.keys():\n",
    "            self.tau_d = config['tau_d']\n",
    "        if 'tau_r' in config.keys():\n",
    "            self.tau_r = config['tau_r']\n",
    "\n",
    "    def alpha_m(self, V):\n",
    "        \"\"\"S5\"\"\"\n",
    "        return .1 * (V + 40.) / (1. - np.exp(-(V + 40.) / 10.))\n",
    "\n",
    "    def beta_m(self, V):\n",
    "        \"\"\"S6\"\"\"\n",
    "        return 4. * np.exp(-(V + 65.) / 18.)\n",
    "\n",
    "    def alpha_h(self, V):\n",
    "        \"\"\"S7\"\"\"\n",
    "        return .07 * np.exp(-(V + 65.) / 20.)\n",
    "\n",
    "    def beta_h(self, V):\n",
    "        \"\"\"S8\"\"\"\n",
    "        return 1. / (1. + np.exp(-(V + 35.) / 10.))\n",
    "\n",
    "    def alpha_n(self, V):\n",
    "        \"\"\"S9\n",
    "        differs from paper! \"/ 115\" instead of \"/ 10\" \"\"\"\n",
    "        return ((V + 55.) / 100.) / (1. - np.exp((-.1) * (V + 55.)))\n",
    "\n",
    "    def beta_n(self, V):\n",
    "        \"\"\"S10\"\"\"\n",
    "        return .125 * np.exp(-(V + 65.) / 80.)\n",
    "\n",
    "    def dm(self, V, m):\n",
    "        \"\"\"S2\"\"\"\n",
    "        a = self.alpha_m(V)\n",
    "        b = self.beta_m(V)\n",
    "\n",
    "        return a * (1. - m) - b * m\n",
    "\n",
    "    def dh(self, V, h):\n",
    "        \"\"\"S3\"\"\"\n",
    "        a = self.alpha_h(V)\n",
    "        b = self.beta_h(V)\n",
    "\n",
    "        return a * (1. - h) - b * h\n",
    "\n",
    "    def dn(self, V, n):\n",
    "        \"\"\"S4\"\"\"\n",
    "        a = self.alpha_n(V)\n",
    "        b = self.beta_n(V)\n",
    "\n",
    "        return a * (1. - n) - b * n\n",
    "\n",
    "    def dV(self, V, m, h, n):\n",
    "        \"\"\"S1\"\"\"\n",
    "        return (- self.g_Na * m ** 3 * h * (V - self.E_Na) \n",
    "                - self.g_K * n ** 4 * (V - self.E_K) \n",
    "                - self.g_L * (V - self.E_L) \n",
    "                + self.I_ext + self.I_syn ) / self.C"
   ]
  },
  {
   "cell_type": "markdown",
   "metadata": {},
   "source": [
    "## Configuration"
   ]
  },
  {
   "cell_type": "code",
   "execution_count": 3,
   "metadata": {},
   "outputs": [],
   "source": [
    "np.random.seed(5)\n",
    "\n",
    "hh_config = {\n",
    "    'C': 1.,\n",
    "    'g_Na': 120.,\n",
    "    'g_K': 36.,\n",
    "    'g_L': .3,\n",
    "    'E_Na': 50.,\n",
    "    'E_K': -77.,\n",
    "    'E_L': -54.5,\n",
    "    'I_ext': 10.\n",
    "}\n",
    "\n",
    "tau_d = 3.\n",
    "tau_r = .1\n",
    "N = 500.\n",
    "\n",
    "step_size = .02\n",
    "t0 = 0.\n",
    "m0 = 0.05\n",
    "h0 = 0.6\n",
    "n0 = 0.32\n",
    "V0 = -30.\n",
    "\n",
    "t_end = 120.\n",
    "\n",
    "t = np.arange(t0, t_end, step_size)\n",
    "\n",
    "hh_1 = hh_neuron(hh_config)\n",
    "neurons = [hh_neuron(hh_config), hh_neuron(hh_config) ,hh_neuron(hh_config)]"
   ]
  },
  {
   "cell_type": "markdown",
   "metadata": {},
   "source": [
    "## Simulation"
   ]
  },
  {
   "cell_type": "code",
   "execution_count": 4,
   "metadata": {},
   "outputs": [],
   "source": [
    "def simulate(t):\n",
    "    \n",
    "    for i in range(1, t.size):\n",
    "\n",
    "        m_i = np.zeros(len(neurons))\n",
    "        h_i = np.zeros(len(neurons))\n",
    "        n_i = np.zeros(len(neurons))\n",
    "        V_i = np.zeros(len(neurons))\n",
    "\n",
    "        for j, neuron in enumerate(neurons):\n",
    "\n",
    "            # intermediate\n",
    "            m_i[j] = m[j, i-1] + step_size * neuron.dm(V[j, i-1], m[j, i-1])\n",
    "            h_i[j] = h[j, i-1] + step_size * neuron.dh(V[j, i-1], h[j, i-1])\n",
    "            n_i[j] = n[j, i-1] + step_size * neuron.dn(V[j, i-1], n[j, i-1])\n",
    "            V_i[j] = V[j, i-1] + step_size * neuron.dV(V[j, i-1], m[j, i-1], h[j, i-1], n[j, i-1])\n",
    "\n",
    "            # heun\n",
    "            m[j, i] = m[j, i-1] + (step_size / 2.) * (neuron.dm(V[j, i-1], m[j, i-1]) + neuron.dm(V_i[j], m_i[j]))\n",
    "            h[j, i] = h[j, i-1] + (step_size / 2.) * (neuron.dh(V[j, i-1], h[j, i-1]) + neuron.dh(V_i[j], h_i[j]))\n",
    "            n[j, i] = n[j, i-1] + (step_size / 2.) * (neuron.dn(V[j, i-1], n[j, i-1]) + neuron.dn(V_i[j], n_i[j]))\n",
    "            V[j, i] = V[j, i-1] + (step_size / 2.) * (neuron.dV(V[j, i-1], m[j, i-1], h[j, i-1], n[j, i-1]) + neuron.dV(V_i[j], m[j, i], h[j, i], n[j, i]))\n"
   ]
  },
  {
   "cell_type": "code",
   "execution_count": 5,
   "metadata": {},
   "outputs": [],
   "source": [
    "# warmup\n",
    "m = np.zeros((len(neurons), t.size))\n",
    "m[:, 0] = m0\n",
    "h = np.zeros((len(neurons), t.size))\n",
    "h[:, 0] = h0\n",
    "n = np.zeros((len(neurons), t.size))\n",
    "n[:, 0] = n0 \n",
    "V = np.zeros((len(neurons), t.size))\n",
    "V[:, 0] = V0\n",
    "simulate(t)\n",
    "\n",
    "# cut warmup phase\n",
    "wu_len = int(14.7 / step_size)\n",
    "m = m[:, wu_len:]\n",
    "h = h[:, wu_len:]\n",
    "n = n[:, wu_len:]\n",
    "V = V[:, wu_len:]\n",
    "\n",
    "# shift phases\n",
    "m0 = np.zeros(len(neurons))\n",
    "h0 = np.zeros(len(neurons))\n",
    "n0 = np.zeros(len(neurons))\n",
    "V0 = np.zeros(len(neurons))\n",
    "for j in range(len(neurons)):\n",
    "    shift = int(np.random.rand() * 14.7 / step_size)\n",
    "    \n",
    "    m[j] = np.roll(m[j], shift)\n",
    "    h[j] = np.roll(h[j], shift)\n",
    "    n[j] = np.roll(n[j], shift)\n",
    "    V[j] = np.roll(V[j], shift)\n",
    "    \n",
    "    m0[j] = m[j, -1]\n",
    "    h0[j] = h[j, -1]\n",
    "    n0[j] = n[j, -1]\n",
    "    V0[j] = V[j, -1]\n",
    "    \n",
    "# simulate\n",
    "t = np.arange(t0, t_end, step_size)\n",
    "m = np.zeros((len(neurons), t.size))\n",
    "m[:, 0] = m0\n",
    "h = np.zeros((len(neurons), t.size))\n",
    "h[:, 0] = h0\n",
    "n = np.zeros((len(neurons), t.size))\n",
    "n[:, 0] = n0 \n",
    "V = np.zeros((len(neurons), t.size))\n",
    "V[:, 0] = V0\n",
    "simulate(t)"
   ]
  },
  {
   "cell_type": "markdown",
   "metadata": {},
   "source": [
    "## Plotting"
   ]
  },
  {
   "cell_type": "code",
   "execution_count": 6,
   "metadata": {},
   "outputs": [
    {
     "data": {
      "image/png": "[encoded data removed]",
      "text/plain": [
       "<Figure size 432x288 with 1 Axes>"
      ]
     },
     "metadata": {
      "needs_background": "light"
     },
     "output_type": "display_data"
    },
    {
     "data": {
      "image/png": "[encoded data removed]",
      "text/plain": [
       "<Figure size 432x288 with 1 Axes>"
      ]
     },
     "metadata": {
      "needs_background": "light"
     },
     "output_type": "display_data"
    }
   ],
   "source": [
    "# only plot alhpa and beta to visualize synchronization\n",
    "for j in range(len(neurons) - 1):\n",
    "    plt.plot(t, V[j])\n",
    "plt.legend([\"alpha\", \"beta\", \"gamma\"])\n",
    "plt.show()\n",
    "\n",
    "# plot spikes\n",
    "for j in range(len(neurons)):\n",
    "    spikes = np.argwhere(V[j] > 20)\n",
    "    n_spikes = spikes.shape[0]\n",
    "    y_val = np.full((n_spikes), 1)\n",
    "    plt.plot(t[spikes], y_val, \".\")\n",
    "\n",
    "plt.legend([\"alhpa\", \"beta\", \"gamma\"])\n",
    "plt.show()\n",
    "\n",
    "#for j in range(len(neurons)):\n",
    "#    \n",
    "#    plt.plot(t, V[j])\n",
    "#    plt.show()\n",
    "#    plt.plot(t, m[j])\n",
    "#    plt.plot(t, h[j])\n",
    "#    plt.plot(t, n[j])\n",
    "#    plt.legend([\"m\", \"n\", \"h\"])\n",
    "#    plt.show()\n",
    "#    print(\"final V: \", V[j, -1])\n",
    "#    print(\"final m: \", m[j, -1])\n",
    "#    print(\"final h: \", h[j, -1])\n",
    "#    print(\"final n: \", n[j, -1])"
   ]
  }
 ],
 "metadata": {
  "kernelspec": {
   "display_name": "Python 3",
   "language": "python",
   "name": "python3"
  },
  "language_info": {
   "codemirror_mode": {
    "name": "ipython",
    "version": 3
   },
   "file_extension": ".py",
   "mimetype": "text/x-python",
   "name": "python",
   "nbconvert_exporter": "python",
   "pygments_lexer": "ipython3",
   "version": "3.7.5"
  }
 },
 "nbformat": 4,
 "nbformat_minor": 2
}
