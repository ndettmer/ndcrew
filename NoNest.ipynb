{
 "cells": [
  {
   "cell_type": "code",
   "execution_count": 1,
   "metadata": {},
   "outputs": [],
   "source": [
    "%matplotlib inline\n",
    "import numpy as np\n",
    "import math\n",
    "import matplotlib.pyplot as plt"
   ]
  },
  {
   "cell_type": "code",
   "execution_count": 2,
   "metadata": {},
   "outputs": [],
   "source": [
    "C = 1.\n",
    "g_Na = 120.\n",
    "g_K = 36.\n",
    "g_L = .3\n",
    "E_Na = 50.\n",
    "E_K = -77.\n",
    "E_L = -54.5\n",
    "I_ext = 10.\n",
    "\n",
    "# TODO: as funciton for connections!\n",
    "I_syn = 0.\n",
    "\n",
    "tau_d = 3.\n",
    "tau_r = .1\n",
    "N = 500.\n"
   ]
  },
  {
   "cell_type": "code",
   "execution_count": 3,
   "metadata": {},
   "outputs": [],
   "source": [
    "def alpha_m(V):\n",
    "    \"\"\"S5\"\"\"\n",
    "    return .1 * (V + 40.) / (1. - np.exp(-(V + 40.) / 10.))\n",
    "\n",
    "def beta_m(V):\n",
    "    \"\"\"S6\"\"\"\n",
    "    return 4. * np.exp(-(V + 65.) / 18.)\n",
    "\n",
    "def alpha_h(V):\n",
    "    \"\"\"S7\"\"\"\n",
    "    return .07 * np.exp(-(V + 65) / 20.)\n",
    "\n",
    "def beta_h(V):\n",
    "    \"\"\"S8\"\"\"\n",
    "    return 1. / (1 + np.exp(-(V + 35.) / 10.))\n",
    "\n",
    "def alpha_n(V):\n",
    "    \"\"\"S9\"\"\"\n",
    "    return ((V + 55.) / 10.) / (1. - np.exp(-.1 * (V + 55.)))\n",
    "\n",
    "def beta_n(V):\n",
    "    \"\"\"S10\"\"\"\n",
    "    return .125 * np.exp(-(V + 65.) / 80.)\n",
    "    \n",
    "def dm(V, m):\n",
    "    \"\"\"S2\"\"\"\n",
    "    a = alpha_m(V)\n",
    "    b = beta_m(V)\n",
    "    \n",
    "    return a * (1. - m) - b * m\n",
    "\n",
    "def dh(V, h):\n",
    "    \"\"\"S3\"\"\"\n",
    "    a = alpha_h(V)\n",
    "    b = beta_h(V)\n",
    "    \n",
    "    return a * (1. - h) - b * h\n",
    "\n",
    "def dn(V, n):\n",
    "    \"\"\"S4\"\"\"\n",
    "    a = alpha_n(V)\n",
    "    b = beta_n(V)\n",
    "    \n",
    "    return a * (1. - n) - b * n\n",
    "\n",
    "def dV(V, m, h, n):\n",
    "    \"\"\"S1\"\"\"\n",
    "    return (- g_Na * m ** 3 * h * (V - E_Na) \n",
    "            - g_K * n ** 4 * (V - E_K) \n",
    "            - g_L * (V - E_L) \n",
    "            + I_ext + I_syn ) / C"
   ]
  },
  {
   "cell_type": "code",
   "execution_count": 4,
   "metadata": {},
   "outputs": [],
   "source": [
    "step_size = .02\n",
    "t0 = 0.\n",
    "m0 = 0.\n",
    "h0 = 0.\n",
    "n0 = 0.\n",
    "V0 = - 30.\n",
    "\n",
    "t_end = 10.\n",
    "\n",
    "t = np.arange(t0, t_end, step_size)\n",
    "m = np.zeros(t.size)\n",
    "m[0] = m0\n",
    "h = np.zeros(t.size)\n",
    "h[0] = h0\n",
    "n = np.zeros(t.size)\n",
    "n[0] = n0 \n",
    "V = np.zeros(t.size)\n",
    "V[0] = V0"
   ]
  },
  {
   "cell_type": "code",
   "execution_count": 5,
   "metadata": {},
   "outputs": [],
   "source": [
    "for i in range(1, t.size):\n",
    "    \n",
    "    m_i = m[i - 1] + step_size * dm(V[i - 1], m[i - 1])\n",
    "    m[i] = m[i - 1] + (step_size / 2.) * (dm(V[i - 1], m[i - 1]) + dm(V[i - 1], m_i))\n",
    "    \n",
    "    h_i = h[i - 1] + step_size * dh(V[i - 1], h[i - 1])\n",
    "    h[i] = h[i - 1] + (step_size / 2.) * (dh(V[i - 1], h[i - 1]) + dh(V[i - 1], h_i))\n",
    "\n",
    "    n_i = n[i - 1] + step_size * dn(V[i - 1], n[i - 1])\n",
    "    n[i] = n[i - 1] + (step_size / 2.) * (dn(V[i - 1], n[i - 1]) + dn(V[i - 1], n_i))\n",
    "    \n",
    "    V_i = V[i - 1] + step_size * dV(V[i - 1], m[i], h[i], n[i])\n",
    "    V[i] = V[i - 1] + (step_size / 2.) * (dV(V[i - 1], m[i], h[i], n[i]) + dV(V_i, m[i], h[i], n[i]))\n",
    "    "
   ]
  },
  {
   "cell_type": "code",
   "execution_count": 7,
   "metadata": {},
   "outputs": [
    {
     "data": {
      "image/png": "[encoded data removed]",
      "text/plain": [
       "<Figure size 432x288 with 1 Axes>"
      ]
     },
     "metadata": {
      "needs_background": "light"
     },
     "output_type": "display_data"
    },
    {
     "data": {
      "image/png": "[encoded data removed]",
      "text/plain": [
       "<Figure size 432x288 with 1 Axes>"
      ]
     },
     "metadata": {
      "needs_background": "light"
     },
     "output_type": "display_data"
    },
    {
     "name": "stdout",
     "output_type": "stream",
     "text": [
      "-74.9969446225872\n",
      "0.015397940998737336\n",
      "0.6191576179482368\n",
      "0.6882915500076449\n"
     ]
    }
   ],
   "source": [
    "plt.plot(t, V)\n",
    "plt.show()\n",
    "plt.plot(t, m)\n",
    "plt.plot(t, h)\n",
    "plt.plot(t, n)\n",
    "plt.legend([\"m\", \"n\", \"h\"])\n",
    "plt.show()\n",
    "print(V[-1])\n",
    "print(m[-1])\n",
    "print(h[-1])\n",
    "print(n[-1])"
   ]
  }
 ],
 "metadata": {
  "kernelspec": {
   "display_name": "Python 3",
   "language": "python",
   "name": "python3"
  },
  "language_info": {
   "codemirror_mode": {
    "name": "ipython",
    "version": 3
   },
   "file_extension": ".py",
   "mimetype": "text/x-python",
   "name": "python",
   "nbconvert_exporter": "python",
   "pygments_lexer": "ipython3",
   "version": "3.7.5"
  }
 },
 "nbformat": 4,
 "nbformat_minor": 2
}
