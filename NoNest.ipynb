{
 "cells": [
  {
   "cell_type": "code",
   "execution_count": 1,
   "metadata": {},
   "outputs": [],
   "source": [
    "%matplotlib inline\n",
    "import numpy as np\n",
    "import matplotlib.pyplot as plt"
   ]
  },
  {
   "cell_type": "markdown",
   "metadata": {},
   "source": [
    "## Classes and functions"
   ]
  },
  {
   "cell_type": "code",
   "execution_count": 2,
   "metadata": {},
   "outputs": [],
   "source": [
    "from scipy.signal import argrelextrema\n",
    "\n",
    "def get_spike_times(ts, V):\n",
    "    return ts[argrelextrema(V, np.greater)]\n",
    "\n",
    "def get_idx(t):\n",
    "    return int(np.around(t / step_size))"
   ]
  },
  {
   "cell_type": "code",
   "execution_count": 3,
   "metadata": {},
   "outputs": [],
   "source": [
    "class hh_neuron:\n",
    "    \n",
    "    def __init__(self, my_id, config={}):\n",
    "        self.C = 1.\n",
    "        self.g_Na = 120.\n",
    "        self.g_K = 36.\n",
    "        self.g_L = .3\n",
    "        self.E_Na = 50.\n",
    "        self.E_K = -77.\n",
    "        self.E_L = -54.5\n",
    "        self.I_ext = 10.\n",
    "        self.tau_d = 3.\n",
    "        self.tau_r = .1\n",
    "        self.sim_n = 1\n",
    "        self.id = my_id\n",
    "        \n",
    "        if 'C' in config.keys():\n",
    "            self.C = config['C']\n",
    "        if 'g_Na' in config.keys():\n",
    "            self.g_Na = config['g_Na']\n",
    "        if 'g_K' in config.keys():\n",
    "            self.g_K = config['g_K']\n",
    "        if 'g_L' in config.keys():\n",
    "            self.g_L = config['g_L']\n",
    "        if 'E_Na' in config.keys():\n",
    "            self.E_Na = config['E_Na']\n",
    "        if 'E_K' in config.keys():\n",
    "            self.E_K = config['E_K']\n",
    "        if 'E_L' in config.keys():\n",
    "            self.E_L = config['E_L']\n",
    "        if 'I_ext' in config.keys():\n",
    "            self.I_ext = config['I_ext']\n",
    "        if 'tau_d' in config.keys():\n",
    "            self.tau_d = config['tau_d']\n",
    "        if 'tau_r' in config.keys():\n",
    "            self.tau_r = config['tau_r']\n",
    "        \n",
    "        self.inc = []\n",
    "        self.outc = []\n",
    "        self.V = None\n",
    "        self.m = None\n",
    "        self.h = None\n",
    "        self.n = None\n",
    "\n",
    "    def alpha_m(self, V):\n",
    "        \"\"\"S5\"\"\"\n",
    "        return .1 * (V + 40.) / (1. - np.exp(-(V + 40.) / 10.))\n",
    "\n",
    "    def beta_m(self, V):\n",
    "        \"\"\"S6\"\"\"\n",
    "        return 4. * np.exp(-(V + 65.) / 18.)\n",
    "\n",
    "    def alpha_h(self, V):\n",
    "        \"\"\"S7\"\"\"\n",
    "        return .07 * np.exp(-(V + 65.) / 20.)\n",
    "\n",
    "    def beta_h(self, V):\n",
    "        \"\"\"S8\"\"\"\n",
    "        return 1. / (1. + np.exp(-(V + 35.) / 10.))\n",
    "\n",
    "    def alpha_n(self, V):\n",
    "        \"\"\"S9\n",
    "        \"/ 10\" appears to be a typo in the paper.\n",
    "        Other resources say \"/ 100\" \"\"\"\n",
    "        return ((V + 55.) / 100.) / (1. - np.exp((-.1) * (V + 55.)))\n",
    "\n",
    "    def beta_n(self, V):\n",
    "        \"\"\"S10\"\"\"\n",
    "        return .125 * np.exp(-(V + 65.) / 80.)\n",
    "\n",
    "    def dm(self, V, m):\n",
    "        \"\"\"S2\"\"\"\n",
    "        a = self.alpha_m(V)\n",
    "        b = self.beta_m(V)\n",
    "\n",
    "        return a * (1. - m) - b * m\n",
    "\n",
    "    def dh(self, V, h):\n",
    "        \"\"\"S3\"\"\"\n",
    "        a = self.alpha_h(V)\n",
    "        b = self.beta_h(V)\n",
    "\n",
    "        return a * (1. - h) - b * h\n",
    "\n",
    "    def dn(self, V, n):\n",
    "        \"\"\"S4\"\"\"\n",
    "        a = self.alpha_n(V)\n",
    "        b = self.beta_n(V)\n",
    "\n",
    "        return a * (1. - n) - b * n\n",
    "\n",
    "    def dV(self, t, V, m, h, n):\n",
    "        \"\"\"S1\"\"\"\n",
    "        I_syn = self.I_syn(t)\n",
    "        \n",
    "        return (- self.g_Na * m ** 3 * h * (V - self.E_Na) \n",
    "                - self.g_K * n ** 4 * (V - self.E_K) \n",
    "                - self.g_L * (V - self.E_L) \n",
    "                + self.I_ext + I_syn ) / self.C\n",
    "    \n",
    "    def setup(self, size, m0, h0, n0, V0):\n",
    "        self.m = np.zeros((size))\n",
    "        self.h = np.zeros((size))\n",
    "        self.n = np.zeros((size))\n",
    "        self.V = np.zeros((size))\n",
    "        \n",
    "        self.m[0] = m0\n",
    "        self.h[0] = h0\n",
    "        self.n[0] = n0\n",
    "        self.V[0] = V0\n",
    "    \n",
    "    def register_in(self, connection):\n",
    "        self.inc.append(connection)\n",
    "        \n",
    "    def register_out(self, connection):\n",
    "        self.outc.append(connection)\n",
    "    \n",
    "    def alpha(self, t):\n",
    "        \"\"\"S11\"\"\"\n",
    "        return (np.exp(-t / tau_d) - np.exp(-t / tau_r)) / (tau_d - tau_r)\n",
    "    \n",
    "    def I_syn(self, t): \n",
    "        \"\"\"S12\"\"\"\n",
    "        if len(self.inc) > 0:\n",
    "            idx = get_idx(t)\n",
    "            t_spikes = get_spike_times(ts[:idx], self.V[:idx])\n",
    "\n",
    "            spike_sums = np.empty(len(self.inc))\n",
    "            for i, tau_l in enumerate(self.get_input_delays()):\n",
    "                spike_sums[i] = np.sum(self.alpha(t - t_spikes - tau_l))\n",
    "\n",
    "            E_syns = self.get_input_potentials()\n",
    "\n",
    "            return - g_max / N * np.sum(spike_sums * (self.V[get_idx(t)] - E_syns))\n",
    "        \n",
    "        return 0.\n",
    "    \n",
    "    def get_input_delays(self):\n",
    "        d = []\n",
    "        for c in self.inc:\n",
    "            d.append(c.tau_l)\n",
    "        return np.array(d)\n",
    "                                    \n",
    "    def get_input_potentials(self):\n",
    "        p = []\n",
    "        for c in self.inc:\n",
    "            p.append(c.E_syn)\n",
    "        return np.array(p)\n",
    "                                    \n",
    "    def heun_step(self, t):\n",
    "        i = get_idx(t)\n",
    "                                   \n",
    "        # intermediate\n",
    "        m_i = self.m[i-1] + step_size * self.dm(self.V[i-1], self.m[i-1])\n",
    "        h_i = self.h[i-1] + step_size * self.dh(self.V[i-1], self.h[i-1])\n",
    "        n_i = self.n[i-1] + step_size * self.dn(self.V[i-1], self.n[i-1])\n",
    "        V_i = self.V[i-1] + step_size * self.dV(t-step_size, self.V[i-1], self.m[i-1], self.h[i-1], self.n[i-1])\n",
    "                                   \n",
    "        # final\n",
    "        self.m[i] = self.m[i-1] + (step_size / 2.) * (self.dm(self.V[i-1], self.m[i-1]) + self.dm(V_i, m_i))\n",
    "        self.h[i] = self.h[i-1] + (step_size / 2.) * (self.dh(self.V[i-1], self.h[i-1]) + self.dh(V_i, h_i))\n",
    "        self.n[i] = self.n[i-1] + (step_size / 2.) * (self.dn(self.V[i-1], self.n[i-1]) + self.dn(V_i, n_i))\n",
    "        self.V[i] = self.V[i-1] + (step_size / 2.) * (self.dV(t-step_size, self.V[i-1], self.m[i-1], self.h[i-1], self.n[i-1]) + self.dV(t, V_i, m_i, h_i, n_i))\n",
    "        "
   ]
  },
  {
   "cell_type": "code",
   "execution_count": 4,
   "metadata": {},
   "outputs": [],
   "source": [
    "class Connection():\n",
    "    \n",
    "    def __init__(self, neuron_a, neuron_b, tau_l, E_syn):\n",
    "        self.neuron_a = neuron_a\n",
    "        self.neuron_b = neuron_b\n",
    "        self.neuron_a.register_out(self)\n",
    "        self.neuron_b.register_in(self)\n",
    "        self.tau_l = tau_l\n",
    "        self.E_syn = E_syn"
   ]
  },
  {
   "cell_type": "markdown",
   "metadata": {},
   "source": [
    "## Configuration"
   ]
  },
  {
   "cell_type": "code",
   "execution_count": 5,
   "metadata": {},
   "outputs": [],
   "source": [
    "np.random.seed(42)\n",
    "\n",
    "hh_config = {\n",
    "    'C': 1.,\n",
    "    'g_Na': 120.,\n",
    "    'g_K': 36.,\n",
    "    'g_L': .3,\n",
    "    'E_Na': 50.,\n",
    "    'E_K': -77.,\n",
    "    'E_L': -54.5,\n",
    "    'I_ext': 10.\n",
    "}\n",
    "\n",
    "tau_d = 3.\n",
    "tau_r = .1\n",
    "g_max = .05\n",
    "N = 1.\n",
    "\n",
    "step_size = .02\n",
    "t0 = 0.\n",
    "m0 = 0.05\n",
    "h0 = 0.6\n",
    "n0 = 0.32\n",
    "V0 = -30.\n",
    "\n",
    "t_end = 200.\n",
    "\n",
    "ts = np.arange(t0, t_end, step_size)\n",
    "\n",
    "hh_alpha = hh_neuron(0, hh_config)\n",
    "hh_beta = hh_neuron(1, hh_config)\n",
    "hh_gamma = hh_neuron(2, hh_config)\n",
    "neurons = [hh_alpha, hh_beta, hh_gamma]\n",
    "\n",
    "# connect neurons\n",
    "connections = []\n",
    "connections.append(Connection(hh_alpha, hh_gamma, 8., 0.))\n",
    "connections.append(Connection(hh_gamma, hh_alpha, 8., 0.))\n",
    "connections.append(Connection(hh_beta, hh_gamma, 8., 0.))\n",
    "connections.append(Connection(hh_gamma, hh_alpha, 8., 0.))"
   ]
  },
  {
   "cell_type": "markdown",
   "metadata": {},
   "source": [
    "## Simulation"
   ]
  },
  {
   "cell_type": "code",
   "execution_count": 6,
   "metadata": {},
   "outputs": [],
   "source": [
    "def simulate(ts):\n",
    "    for t in ts[1:]:\n",
    "        for neuron in neurons:\n",
    "            neuron.heun_step(t)"
   ]
  },
  {
   "cell_type": "code",
   "execution_count": 7,
   "metadata": {},
   "outputs": [
    {
     "name": "stderr",
     "output_type": "stream",
     "text": [
      "/usr/lib/python3/dist-packages/ipykernel_launcher.py:47: RuntimeWarning: overflow encountered in exp\n",
      "/usr/lib/python3/dist-packages/ipykernel_launcher.py:51: RuntimeWarning: overflow encountered in exp\n",
      "/usr/lib/python3/dist-packages/ipykernel_launcher.py:55: RuntimeWarning: overflow encountered in exp\n",
      "/usr/lib/python3/dist-packages/ipykernel_launcher.py:59: RuntimeWarning: overflow encountered in exp\n",
      "/usr/lib/python3/dist-packages/ipykernel_launcher.py:65: RuntimeWarning: overflow encountered in exp\n",
      "/usr/lib/python3/dist-packages/ipykernel_launcher.py:69: RuntimeWarning: overflow encountered in exp\n",
      "/usr/lib/python3/dist-packages/ipykernel_launcher.py:99: RuntimeWarning: overflow encountered in double_scalars\n",
      "/usr/lib/python3/dist-packages/ipykernel_launcher.py:99: RuntimeWarning: invalid value encountered in double_scalars\n",
      "/usr/lib/python3/dist-packages/scipy/signal/_peak_finding.py:77: RuntimeWarning: invalid value encountered in greater\n",
      "  results &= comparator(main, plus)\n",
      "/usr/lib/python3/dist-packages/scipy/signal/_peak_finding.py:78: RuntimeWarning: invalid value encountered in greater\n",
      "  results &= comparator(main, minus)\n"
     ]
    }
   ],
   "source": [
    "# warmup\n",
    "for neuron in neurons:\n",
    "    neuron.setup(ts.size, m0, h0, n0, V0)\n",
    "simulate(ts)"
   ]
  },
  {
   "cell_type": "code",
   "execution_count": 8,
   "metadata": {},
   "outputs": [
    {
     "name": "stderr",
     "output_type": "stream",
     "text": [
      "/usr/lib/python3/dist-packages/scipy/signal/_peak_finding.py:77: RuntimeWarning: invalid value encountered in greater\n",
      "  results &= comparator(main, plus)\n",
      "/usr/lib/python3/dist-packages/scipy/signal/_peak_finding.py:78: RuntimeWarning: invalid value encountered in greater\n",
      "  results &= comparator(main, minus)\n"
     ]
    }
   ],
   "source": [
    "# cut first phase\n",
    "phase_len = int(14.7 / step_size)\n",
    "for neuron in neurons:    \n",
    "    neuron.m = neuron.m[phase_len:]\n",
    "    neuron.h = neuron.h[phase_len:]\n",
    "    neuron.n = neuron.n[phase_len:]\n",
    "    neuron.V = neuron.V[phase_len:]\n",
    "\n",
    "# shift phases randomly and reset neurons with new states\n",
    "for neuron in neurons:\n",
    "    shift = int(np.random.rand() * 14.7 / step_size)\n",
    "    \n",
    "    m0 = np.roll(neuron.m, shift)[0]\n",
    "    h0 = np.roll(neuron.h, shift)[0]\n",
    "    n0 = np.roll(neuron.n, shift)[0]\n",
    "    V0 = np.roll(neuron.V, shift)[0]\n",
    "    \n",
    "    neuron.setup(ts.size, m0, h0, n0, V0)\n",
    "    \n",
    "# simulate\n",
    "simulate(ts)"
   ]
  },
  {
   "cell_type": "markdown",
   "metadata": {},
   "source": [
    "## Plotting"
   ]
  },
  {
   "cell_type": "code",
   "execution_count": 9,
   "metadata": {},
   "outputs": [
    {
     "data": {
      "image/png": "[encoded data removed]",
      "text/plain": [
       "<Figure size 432x288 with 1 Axes>"
      ]
     },
     "metadata": {
      "needs_background": "light"
     },
     "output_type": "display_data"
    },
    {
     "name": "stderr",
     "output_type": "stream",
     "text": [
      "/usr/lib/python3/dist-packages/scipy/signal/_peak_finding.py:77: RuntimeWarning: invalid value encountered in greater\n",
      "  results &= comparator(main, plus)\n",
      "/usr/lib/python3/dist-packages/scipy/signal/_peak_finding.py:78: RuntimeWarning: invalid value encountered in greater\n",
      "  results &= comparator(main, minus)\n"
     ]
    },
    {
     "data": {
      "image/png": "[encoded data removed]",
      "text/plain": [
       "<Figure size 432x288 with 1 Axes>"
      ]
     },
     "metadata": {
      "needs_background": "light"
     },
     "output_type": "display_data"
    }
   ],
   "source": [
    "# only plot alhpa and beta to visualize synchronization\n",
    "for neuron in neurons[:-1]:\n",
    "    plt.plot(ts, neuron.V)\n",
    "plt.legend([\"alpha\", \"beta\", \"gamma\"])\n",
    "plt.show()\n",
    "\n",
    "# plot spikes\n",
    "for neuron in neurons:\n",
    "    spike_idx = argrelextrema(neuron.V, np.greater)[0]\n",
    "    y_val = np.full(len(spike_idx), 1)\n",
    "    plt.plot(ts[spike_idx], y_val, \".\")\n",
    "plt.legend([\"alhpa\", \"beta\", \"gamma\"])\n",
    "plt.show()"
   ]
  }
 ],
 "metadata": {
  "kernelspec": {
   "display_name": "Python 3",
   "language": "python",
   "name": "python3"
  },
  "language_info": {
   "codemirror_mode": {
    "name": "ipython",
    "version": 3
   },
   "file_extension": ".py",
   "mimetype": "text/x-python",
   "name": "python",
   "nbconvert_exporter": "python",
   "pygments_lexer": "ipython3",
   "version": "3.7.5"
  }
 },
 "nbformat": 4,
 "nbformat_minor": 2
}
