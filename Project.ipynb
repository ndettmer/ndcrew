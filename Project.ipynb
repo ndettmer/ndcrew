{
 "cells": [
  {
   "cell_type": "code",
   "execution_count": 1,
   "metadata": {},
   "outputs": [],
   "source": [
    "import pylab\n",
    "import nest"
   ]
  },
  {
   "cell_type": "markdown",
   "metadata": {},
   "source": [
    "## Experiment 1\n",
    "- 3 HH neurons\n",
    "- reciprocal delayed synaptic connections\n",
    "- intracellular constant current stimulation of $10 \\frac{\\mu A}{cm^2}$\n",
    "- random inital phase\n",
    "\n",
    "![alt text](img/exp1.png \"Experiment 1\")"
   ]
  },
  {
   "cell_type": "code",
   "execution_count": 2,
   "metadata": {},
   "outputs": [],
   "source": [
    "# Init neurons\n",
    "neuron_alpha = nest.Create(\"hh_psc_alpha\")\n",
    "neuron_beta = nest.Create(\"hh_psc_alpha\")\n",
    "neuron_gamma = nest.Create(\"hh_psc_alpha\")"
   ]
  },
  {
   "cell_type": "code",
   "execution_count": 3,
   "metadata": {},
   "outputs": [],
   "source": [
    "# Add intercellular constant current stimulation\n",
    "# TODO"
   ]
  },
  {
   "cell_type": "code",
   "execution_count": 4,
   "metadata": {},
   "outputs": [],
   "source": [
    "# connect neurons reciprocally\n",
    "syn_dict = {\"weight\": 1.0, \"delay\": 1.0}\n",
    "nest.Connect(neuron_alpha, neuron_gamma, syn_spec=syn_dict)\n",
    "nest.Connect(neuron_beta, neuron_gamma, syn_spec=syn_dict)\n",
    "nest.Connect(neuron_gamma, neuron_alpha, syn_spec=syn_dict)\n",
    "nest.Connect(neuron_gamma, neuron_beta, syn_spec=syn_dict)"
   ]
  }
 ],
 "metadata": {
  "kernelspec": {
   "display_name": "Python 3",
   "language": "python",
   "name": "python3"
  },
  "language_info": {
   "codemirror_mode": {
    "name": "ipython",
    "version": 3
   },
   "file_extension": ".py",
   "mimetype": "text/x-python",
   "name": "python",
   "nbconvert_exporter": "python",
   "pygments_lexer": "ipython3",
   "version": "3.7.5"
  }
 },
 "nbformat": 4,
 "nbformat_minor": 4
}
