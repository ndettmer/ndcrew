{
 "cells": [
  {
   "cell_type": "code",
   "execution_count": 1,
   "metadata": {},
   "outputs": [],
   "source": [
    "import pylab\n",
    "import numpy as np\n",
    "import nest"
   ]
  },
  {
   "cell_type": "markdown",
   "metadata": {},
   "source": [
    "## Experiment 1\n",
    "- 3 HH neurons\n",
    "- reciprocal delayed synaptic connections\n",
    "- intracellular constant current stimulation of $10 \\frac{\\mu A}{cm^2}$\n",
    "- random inital phase\n",
    "\n",
    "![alt text](img/exp1.png \"Experiment 1\")"
   ]
  },
  {
   "cell_type": "markdown",
   "metadata": {},
   "source": [
    "### Configuration following Materials and Methods SI\n",
    "\n",
    "$C = 1 \\frac{\\mu F}{cm^2}$\n",
    "\n",
    "$g_{Na} = 120 \\frac{mS}{cm^2}, g_K = 36 \\frac{mS}{cm^2}, g_L = 0.3 \\frac{mS}{cm^2}$\n",
    "\n",
    "$E_{Na} = 50 mV, E_K = -77 mV, E_L = -54.5 mV$\n",
    "\n",
    "$\\tau_r = \\tau_{ex} = 0.1 ms, \\tau_d = \\tau_{in} = 3 ms$"
   ]
  },
  {
   "cell_type": "code",
   "execution_count": 2,
   "metadata": {},
   "outputs": [],
   "source": [
    "# Init neurons\n",
    "\n",
    "\"\"\" \n",
    "hh_pcs_alpha because:\n",
    "- hh_cond_beta_gap_traub is not a compartmental model\n",
    "- hh_psc_alpha_clopath only has additional fatures\n",
    "\"\"\"\n",
    "\n",
    "# intracellular constant current stimulation as external input current \n",
    "\n",
    "# TODO: shift phases randomly\n",
    "\n",
    "config = {\n",
    "                   \"C_m\": 1000000.0, \n",
    "                   \"g_Na\": 120000.0, \n",
    "                   \"g_K\": 36000.0,\n",
    "                   \"g_L\": 300.0,\n",
    "                   \"E_Na\": 50.0,\n",
    "                   \"E_K\": -77.0,\n",
    "                   \"E_L\": -54.5,\n",
    "                   \"tau_syn_ex\": 0.1,\n",
    "                   \"tau_syn_in\": 3.0\n",
    "               }\n",
    "\n",
    "neuron_alpha = nest.Create(\"ht_neuron\", params=config)\n",
    "neuron_beta = nest.Create(\"ht_neuron\", params=config)\n",
    "neuron_gamma = nest.Create(\"\", params=config)\n",
    "\n",
    "times_alpha = list(np.arange(1.0, 1000.0, 20))\n",
    "times_beta = list(np.arange(1.0, 1000.0, 20) + 8.0)\n",
    "spikegen_alpha = nest.Create(\"spike_generator\", params={\"spike_times\": times_alpha})\n",
    "spikegen_beta = nest.Create(\"spike_generator\", params={\"spike_times\": times_beta})"
   ]
  },
  {
   "cell_type": "code",
   "execution_count": 3,
   "metadata": {},
   "outputs": [
    {
     "data": {
      "text/plain": [
       "('bernoulli_synapse',\n",
       " 'bernoulli_synapse_hpc',\n",
       " 'bernoulli_synapse_lbl',\n",
       " 'clopath_synapse',\n",
       " 'clopath_synapse_hpc',\n",
       " 'clopath_synapse_lbl',\n",
       " 'cont_delay_synapse',\n",
       " 'cont_delay_synapse_hpc',\n",
       " 'cont_delay_synapse_lbl',\n",
       " 'diffusion_connection',\n",
       " 'diffusion_connection_lbl',\n",
       " 'gap_junction',\n",
       " 'gap_junction_lbl',\n",
       " 'ht_synapse',\n",
       " 'ht_synapse_hpc',\n",
       " 'ht_synapse_lbl',\n",
       " 'quantal_stp_synapse',\n",
       " 'quantal_stp_synapse_hpc',\n",
       " 'quantal_stp_synapse_lbl',\n",
       " 'rate_connection_delayed',\n",
       " 'rate_connection_delayed_lbl',\n",
       " 'rate_connection_instantaneous',\n",
       " 'rate_connection_instantaneous_lbl',\n",
       " 'static_synapse',\n",
       " 'static_synapse_hom_w',\n",
       " 'static_synapse_hom_w_hpc',\n",
       " 'static_synapse_hom_w_lbl',\n",
       " 'static_synapse_hpc',\n",
       " 'static_synapse_lbl',\n",
       " 'stdp_dopamine_synapse',\n",
       " 'stdp_dopamine_synapse_hpc',\n",
       " 'stdp_dopamine_synapse_lbl',\n",
       " 'stdp_facetshw_synapse_hom',\n",
       " 'stdp_facetshw_synapse_hom_hpc',\n",
       " 'stdp_facetshw_synapse_hom_lbl',\n",
       " 'stdp_nn_pre-centered_synapse',\n",
       " 'stdp_nn_pre-centered_synapse_hpc',\n",
       " 'stdp_nn_pre-centered_synapse_lbl',\n",
       " 'stdp_nn_restr_synapse',\n",
       " 'stdp_nn_restr_synapse_hpc',\n",
       " 'stdp_nn_restr_synapse_lbl',\n",
       " 'stdp_nn_symm_synapse',\n",
       " 'stdp_nn_symm_synapse_hpc',\n",
       " 'stdp_nn_symm_synapse_lbl',\n",
       " 'stdp_pl_synapse_hom',\n",
       " 'stdp_pl_synapse_hom_hpc',\n",
       " 'stdp_pl_synapse_hom_lbl',\n",
       " 'stdp_synapse',\n",
       " 'stdp_synapse_hom',\n",
       " 'stdp_synapse_hom_hpc',\n",
       " 'stdp_synapse_hom_lbl',\n",
       " 'stdp_synapse_hpc',\n",
       " 'stdp_synapse_lbl',\n",
       " 'stdp_triplet_synapse',\n",
       " 'stdp_triplet_synapse_hpc',\n",
       " 'stdp_triplet_synapse_lbl',\n",
       " 'tsodyks2_synapse',\n",
       " 'tsodyks2_synapse_hpc',\n",
       " 'tsodyks2_synapse_lbl',\n",
       " 'tsodyks_synapse',\n",
       " 'tsodyks_synapse_hom',\n",
       " 'tsodyks_synapse_hom_hpc',\n",
       " 'tsodyks_synapse_hom_lbl',\n",
       " 'tsodyks_synapse_hpc',\n",
       " 'tsodyks_synapse_lbl',\n",
       " 'urbanczik_synapse',\n",
       " 'urbanczik_synapse_hpc',\n",
       " 'urbanczik_synapse_lbl',\n",
       " 'vogels_sprekeler_synapse',\n",
       " 'vogels_sprekeler_synapse_hpc',\n",
       " 'vogels_sprekeler_synapse_lbl')"
      ]
     },
     "execution_count": 3,
     "metadata": {},
     "output_type": "execute_result"
    }
   ],
   "source": [
    "nest.Models(\"synapses\")"
   ]
  },
  {
   "cell_type": "code",
   "execution_count": 4,
   "metadata": {},
   "outputs": [
    {
     "data": {
      "text/plain": [
       "{'AMPA': 1, 'GABA_A': 3, 'GABA_B': 4, 'NMDA': 2}"
      ]
     },
     "execution_count": 4,
     "metadata": {},
     "output_type": "execute_result"
    }
   ],
   "source": [
    "nest.GetDefaults(\"ht_neuron\")[\"receptor_types\"]"
   ]
  },
  {
   "cell_type": "code",
   "execution_count": 5,
   "metadata": {},
   "outputs": [],
   "source": [
    "# connect neurons\n",
    "syn_dict = {\"weight\": 10000000.0, \"delay\": 1.0, \"receptor_type\": 1}\n",
    "nest.Connect(neuron_alpha, neuron_gamma, syn_spec=syn_dict)\n",
    "nest.Connect(neuron_beta, neuron_gamma, syn_spec=syn_dict)\n",
    "nest.Connect(neuron_gamma, neuron_alpha, syn_spec=syn_dict)\n",
    "nest.Connect(neuron_gamma, neuron_beta, syn_spec=syn_dict)\n",
    "\n",
    "#nest.Connect(spikegen_alpha, neuron_alpha, syn_spec={\"weight\": 10000000.0})\n",
    "#nest.Connect(spikegen_beta, neuron_beta, syn_spec={\"weight\": 10000000.0})"
   ]
  },
  {
   "cell_type": "code",
   "execution_count": 6,
   "metadata": {},
   "outputs": [],
   "source": [
    "# devices\n",
    "\n",
    "# multimeter\n",
    "multimeter_alpha = nest.Create(\"multimeter\")\n",
    "multimeter_beta = nest.Create(\"multimeter\")\n",
    "multimeter_gamma = nest.Create(\"multimeter\")\n",
    "\n",
    "nest.SetStatus(multimeter_alpha, {\"record_from\":[\"V_m\"]})\n",
    "nest.SetStatus(multimeter_beta, {\"record_from\":[\"V_m\"]})\n",
    "nest.SetStatus(multimeter_gamma, {\"record_from\":[\"V_m\"]})\n",
    "\n",
    "nest.Connect(multimeter_alpha, neuron_alpha)\n",
    "nest.Connect(multimeter_beta, neuron_beta)\n",
    "nest.Connect(multimeter_gamma, neuron_gamma)\n",
    "\n",
    "# spike detectors\n",
    "spikedetector_alpha = nest.Create(\"spike_detector\")\n",
    "spikedetector_beta = nest.Create(\"spike_detector\")\n",
    "spikedetector_gamma = nest.Create(\"spike_detector\")\n",
    "\n",
    "nest.Connect(neuron_alpha, spikedetector_alpha)\n",
    "nest.Connect(neuron_beta, spikedetector_beta)\n",
    "nest.Connect(neuron_gamma, spikedetector_gamma)"
   ]
  },
  {
   "cell_type": "code",
   "execution_count": 7,
   "metadata": {},
   "outputs": [],
   "source": [
    "# simulate\n",
    "nest.Simulate(1000.0)"
   ]
  },
  {
   "cell_type": "code",
   "execution_count": 8,
   "metadata": {},
   "outputs": [
    {
     "data": {
      "image/png": "[encoded data removed]",
      "text/plain": [
       "<Figure size 432x288 with 1 Axes>"
      ]
     },
     "metadata": {
      "needs_background": "light"
     },
     "output_type": "display_data"
    },
    {
     "data": {
      "image/png": "[encoded data removed]",
      "text/plain": [
       "<Figure size 432x288 with 1 Axes>"
      ]
     },
     "metadata": {
      "needs_background": "light"
     },
     "output_type": "display_data"
    },
    {
     "data": {
      "image/png": "[encoded data removed]",
      "text/plain": [
       "<Figure size 432x288 with 1 Axes>"
      ]
     },
     "metadata": {
      "needs_background": "light"
     },
     "output_type": "display_data"
    },
    {
     "data": {
      "image/png": "[encoded data removed]",
      "text/plain": [
       "<Figure size 432x288 with 1 Axes>"
      ]
     },
     "metadata": {
      "needs_background": "light"
     },
     "output_type": "display_data"
    }
   ],
   "source": [
    "# plot membrane potential\n",
    "dmm_alpha = nest.GetStatus(multimeter_alpha)[0]\n",
    "Vms_alpha = dmm_alpha[\"events\"][\"V_m\"]\n",
    "ts_alpha = dmm_alpha[\"events\"][\"times\"]\n",
    "\n",
    "dmm_beta = nest.GetStatus(multimeter_beta)[0]\n",
    "Vms_beta = dmm_beta[\"events\"][\"V_m\"]\n",
    "ts_beta = dmm_beta[\"events\"][\"times\"]\n",
    "\n",
    "dmm_gamma = nest.GetStatus(multimeter_gamma)[0]\n",
    "Vms_gamma = dmm_gamma[\"events\"][\"V_m\"]\n",
    "ts_gamma = dmm_gamma[\"events\"][\"times\"]\n",
    "\n",
    "pylab.figure(1)\n",
    "pylab.plot(ts_alpha, Vms_alpha)\n",
    "pylab.xlabel(\"t\")\n",
    "pylab.ylabel(\"membrane potential\")\n",
    "pylab.title(\"Alpha\")\n",
    "pylab.show()\n",
    "\n",
    "pylab.figure(2)\n",
    "pylab.plot(ts_beta, Vms_beta)\n",
    "pylab.xlabel(\"t\")\n",
    "pylab.ylabel(\"membrane potential\")\n",
    "pylab.title(\"Beta\")\n",
    "pylab.show()\n",
    "\n",
    "pylab.figure(3)\n",
    "pylab.plot(ts_gamma, Vms_gamma)\n",
    "pylab.xlabel(\"t\")\n",
    "pylab.ylabel(\"membrane potential\")\n",
    "pylab.title(\"Gamma\")\n",
    "pylab.show()\n",
    "\n",
    "pylab.figure(4)\n",
    "pylab.plot(ts_alpha, Vms_alpha)\n",
    "pylab.plot(ts_beta, Vms_beta)\n",
    "pylab.plot(ts_gamma, Vms_gamma)\n",
    "pylab.legend([\"alpha\", \"beta\", \"gamma\"])\n",
    "pylab.xlabel(\"t\")\n",
    "pylab.ylabel(\"membrane potential\")\n",
    "pylab.title(\"Combined\")\n",
    "pylab.show()"
   ]
  },
  {
   "cell_type": "code",
   "execution_count": 9,
   "metadata": {},
   "outputs": [
    {
     "data": {
      "image/png": "[encoded data removed]",
      "text/plain": [
       "<Figure size 432x288 with 1 Axes>"
      ]
     },
     "metadata": {
      "needs_background": "light"
     },
     "output_type": "display_data"
    }
   ],
   "source": [
    "# plot spike occurrances\n",
    "dSD_alpha = nest.GetStatus(spikedetector_alpha, keys=\"events\")[0]\n",
    "evs_alpha = dSD_alpha[\"senders\"]\n",
    "ts_sd_alpha = dSD_alpha[\"times\"]\n",
    "\n",
    "dSD_beta = nest.GetStatus(spikedetector_beta, keys=\"events\")[0]\n",
    "evs_beta = dSD_beta[\"senders\"]\n",
    "ts_sd_beta = dSD_beta[\"times\"]\n",
    "\n",
    "dSD_gamma = nest.GetStatus(spikedetector_gamma, keys=\"events\")[0]\n",
    "evs_gamma = dSD_gamma[\"senders\"]\n",
    "ts_sd_gamma = dSD_gamma[\"times\"]\n",
    "\n",
    "pylab.figure(2)\n",
    "pylab.plot(ts_sd_alpha, evs_alpha, \".\")\n",
    "pylab.plot(ts_sd_beta, evs_beta, \".\")\n",
    "pylab.plot(ts_sd_gamma, evs_gamma, \".\")\n",
    "pylab.legend([\"alpha\", \"beta\", \"gamma\"])\n",
    "pylab.show()"
   ]
  }
 ],
 "metadata": {
  "kernelspec": {
   "display_name": "Python 3",
   "language": "python",
   "name": "python3"
  },
  "language_info": {
   "codemirror_mode": {
    "name": "ipython",
    "version": 3
   },
   "file_extension": ".py",
   "mimetype": "text/x-python",
   "name": "python",
   "nbconvert_exporter": "python",
   "pygments_lexer": "ipython3",
   "version": "3.7.5"
  }
 },
 "nbformat": 4,
 "nbformat_minor": 4
}
