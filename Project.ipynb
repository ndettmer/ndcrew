{
 "cells": [
  {
   "cell_type": "code",
   "execution_count": 1,
   "metadata": {},
   "outputs": [],
   "source": [
    "import pylab\n",
    "import numpy as np\n",
    "import nest"
   ]
  },
  {
   "cell_type": "markdown",
   "metadata": {},
   "source": [
    "## Experiment 1\n",
    "- 3 HH neurons\n",
    "- reciprocal delayed synaptic connections\n",
    "- intracellular constant current stimulation of $10 \\frac{\\mu A}{cm^2}$\n",
    "- random inital phase\n",
    "\n",
    "![alt text](img/exp1.png \"Experiment 1\")"
   ]
  },
  {
   "cell_type": "markdown",
   "metadata": {},
   "source": [
    "### Configuration following Materials and Methods SI\n",
    "\n",
    "$C = 1 \\frac{\\mu F}{cm^2}$\n",
    "\n",
    "$g_{Na} = 120 \\frac{mS}{cm^2}, g_K = 36 \\frac{mS}{cm^2}, g_L = 0.3 \\frac{mS}{cm^2}$\n",
    "\n",
    "$E_{Na} = 50 mV, E_K = -77 mV, E_L = -54.5 mV$\n",
    "\n",
    "$\\tau_r = \\tau_{ex} = 0.1 ms, \\tau_d = \\tau_{in} = 3 ms$"
   ]
  },
  {
   "cell_type": "code",
   "execution_count": 2,
   "metadata": {},
   "outputs": [],
   "source": [
    "# Configuraiton\n",
    "\n",
    "# configuration of neurons\n",
    "config = {\n",
    "    \"C_m\": 1.0, \n",
    "    \"g_Na\": 120.0, \n",
    "    \"g_K\": 36.0,\n",
    "    \"g_L\": 3.,\n",
    "    \"E_Na\": 50.0,\n",
    "    \"E_K\": -77.0,\n",
    "    \"E_L\": -54.5,\n",
    "    #\"tau_syn_ex\": 0.1,\n",
    "    #\"tau_syn_in\": 3.0,\n",
    "    \"I_e\": 10.,\n",
    "    \"Act_m\": .05,\n",
    "    \"Inact_h\": .6,\n",
    "    \"Act_n\": .32,\n",
    "    \"V_m\": -30.\n",
    "}\n",
    "\n",
    "# configuration of synapses\n",
    "syn_dict = {'weight': 1.}\n",
    "min_delay = 8.\n",
    "max_delay = 8.\n",
    "synapse_model = 'cont_delay_synapse'\n",
    "\n",
    "# simulation values\n",
    "t_sim = 120.\n",
    "warmup = 0\n",
    "spike_interval = 14.7\n",
    "\n",
    "# connection switches\n",
    "spike_gens_on = False\n",
    "p_gens_on = False\n",
    "connect_neurons = False\n",
    "\n",
    "# random seed\n",
    "np.random.seed(42)"
   ]
  },
  {
   "cell_type": "code",
   "execution_count": 3,
   "metadata": {},
   "outputs": [],
   "source": [
    "# Init neurons\n",
    "\n",
    "\"\"\" \n",
    "hh_pcs_alpha because:\n",
    "- hh_cond_beta_gap_traub is not a compartmental model\n",
    "- hh_psc_alpha_clopath only has additional fatures\n",
    "\"\"\" \n",
    "\n",
    "neuron_alpha = nest.Create(\"hh_psc_alpha\", params=config)\n",
    "neuron_beta = nest.Create(\"hh_psc_alpha\", params=config)\n",
    "neuron_gamma = nest.Create(\"hh_psc_alpha\", params=config)\n",
    "\n",
    "if spike_gens_on:\n",
    "    spike_times_alpha = np.around(np.arange(1., t_sim, spike_interval))\n",
    "    spike_times_beta = spike_times_alpha + np.around(np.random.rand((1)) * spike_interval, 1)\n",
    "    spike_times_gamma = spike_times_alpha + np.around(np.random.rand((1)) * spike_interval, 1)\n",
    "    \n",
    "    sg1_params = {'spike_times': spike_times_alpha}\n",
    "    sg2_params = {'spike_times': spike_times_beta}\n",
    "    sg3_params = {'spike_times': spike_times_gamma}\n",
    "\n",
    "    sg1 = nest.Create(\"spike_generator\", 1, params=sg1_params)\n",
    "    sg2 = nest.Create(\"spike_generator\", 1, params=sg2_params)\n",
    "    sg3 = nest.Create(\"spike_generator\", 1, params=sg3_params)\n",
    "    \n",
    "if p_gens_on:\n",
    "    # TODO: randomize, initialize\n",
    "    pg1_params = {'rate': 100., 'start': 0.}\n",
    "    pg2_params = {'rate': 100., 'start': 2.}\n",
    "    pg3_params = {'rate': 100., 'start': 5.}"
   ]
  },
  {
   "cell_type": "code",
   "execution_count": 4,
   "metadata": {},
   "outputs": [
    {
     "data": {
      "text/plain": [
       "({'Act_m': 0.05,\n",
       "  'Act_n': 0.32,\n",
       "  'archiver_length': 0,\n",
       "  'beta_Ca': 0.001,\n",
       "  'C_m': 1.0,\n",
       "  'Ca': 0.0,\n",
       "  'E_K': -77.0,\n",
       "  'E_L': -54.5,\n",
       "  'E_Na': 50.0,\n",
       "  'element_type': 'neuron',\n",
       "  'frozen': False,\n",
       "  'g_K': 36.0,\n",
       "  'g_L': 3.0,\n",
       "  'g_Na': 120.0,\n",
       "  'global_id': 1,\n",
       "  'I_e': 10.0,\n",
       "  'Inact_h': 0.6,\n",
       "  'local': True,\n",
       "  'model': 'hh_psc_alpha',\n",
       "  'node_uses_wfr': False,\n",
       "  'post_trace': 0.0,\n",
       "  'recordables': ('Act_m', 'Act_n', 'I_syn_ex', 'I_syn_in', 'Inact_h', 'V_m'),\n",
       "  'synaptic_elements': {},\n",
       "  't_ref': 2.0,\n",
       "  't_spike': -1.0,\n",
       "  'tau_Ca': 10000.0,\n",
       "  'tau_minus': 20.0,\n",
       "  'tau_minus_triplet': 110.0,\n",
       "  'tau_syn_ex': 0.2,\n",
       "  'tau_syn_in': 2.0,\n",
       "  'thread': 0,\n",
       "  'thread_local_id': -1,\n",
       "  'V_m': -30.0,\n",
       "  'vp': 0},)"
      ]
     },
     "execution_count": 4,
     "metadata": {},
     "output_type": "execute_result"
    }
   ],
   "source": [
    "nest.GetStatus(neuron_alpha)"
   ]
  },
  {
   "cell_type": "code",
   "execution_count": 5,
   "metadata": {},
   "outputs": [],
   "source": [
    "# connect components\n",
    "\n",
    "if spike_gens_on:\n",
    "    nest.Connect(sg1, neuron_alpha, syn_spec=syn_dict)\n",
    "    nest.Connect(sg2, neuron_beta, syn_spec=syn_dict)\n",
    "    nest.Connect(sg3, neuron_gamma, syn_spec=syn_dict)\n",
    "    \n",
    "if p_gens_on:\n",
    "    nest.Connect(pg1, neuron_alpha, syn_spec=syn_dict)\n",
    "    nest.Connect(pg2, neuron_beta, syn_spec=syn_dict)\n",
    "    nest.Connect(pg3, neuron_gamma, syn_spec=syn_dict)\n",
    "\n",
    "if connect_neurons:\n",
    "    syn_dict['synapse_model'] = synapse_model\n",
    "    \n",
    "    syn_dict['delay'] = np.around(np.random.rand((1)) * (max_delay - min_delay) + min_delay, 1)[0]\n",
    "    nest.Connect(neuron_alpha, neuron_gamma, syn_spec=syn_dict)\n",
    "    nest.Connect(neuron_gamma, neuron_alpha, syn_spec=syn_dict)\n",
    "\n",
    "    syn_dict['delay'] = np.around(np.random.rand((1)) * (max_delay - min_delay) + min_delay, 1)[0]\n",
    "    nest.Connect(neuron_beta, neuron_gamma, syn_spec=syn_dict)\n",
    "    nest.Connect(neuron_gamma, neuron_beta, syn_spec=syn_dict)"
   ]
  },
  {
   "cell_type": "code",
   "execution_count": 6,
   "metadata": {},
   "outputs": [],
   "source": [
    "# measuring devices\n",
    "\n",
    "# multimeter\n",
    "multimeter_alpha = nest.Create(\"multimeter\")\n",
    "multimeter_beta = nest.Create(\"multimeter\")\n",
    "multimeter_gamma = nest.Create(\"multimeter\")\n",
    "\n",
    "nest.SetStatus(multimeter_alpha, {\"record_from\":[\"V_m\", \"Act_m\", \"Act_n\", \"Inact_h\"]})\n",
    "nest.SetStatus(multimeter_beta, {\"record_from\":[\"V_m\"]})\n",
    "nest.SetStatus(multimeter_gamma, {\"record_from\":[\"V_m\"]})\n",
    "\n",
    "nest.Connect(multimeter_alpha, neuron_alpha)\n",
    "nest.Connect(multimeter_beta, neuron_beta)\n",
    "nest.Connect(multimeter_gamma, neuron_gamma)\n",
    "\n",
    "# spike detectors\n",
    "spikedetector_alpha = nest.Create(\"spike_detector\")\n",
    "spikedetector_beta = nest.Create(\"spike_detector\")\n",
    "spikedetector_gamma = nest.Create(\"spike_detector\")\n",
    "\n",
    "nest.Connect(neuron_alpha, spikedetector_alpha)\n",
    "nest.Connect(neuron_beta, spikedetector_beta)\n",
    "nest.Connect(neuron_gamma, spikedetector_gamma)"
   ]
  },
  {
   "cell_type": "code",
   "execution_count": 7,
   "metadata": {},
   "outputs": [],
   "source": [
    "# simulate\n",
    "nest.Simulate(t_sim)"
   ]
  },
  {
   "cell_type": "code",
   "execution_count": 8,
   "metadata": {},
   "outputs": [
    {
     "data": {
      "image/png": "[encoded data removed]",
      "text/plain": [
       "<Figure size 432x288 with 1 Axes>"
      ]
     },
     "metadata": {
      "needs_background": "light"
     },
     "output_type": "display_data"
    },
    {
     "data": {
      "image/png": "[encoded data removed]",
      "text/plain": [
       "<Figure size 432x288 with 1 Axes>"
      ]
     },
     "metadata": {
      "needs_background": "light"
     },
     "output_type": "display_data"
    },
    {
     "data": {
      "image/png": "[encoded data removed]",
      "text/plain": [
       "<Figure size 432x288 with 1 Axes>"
      ]
     },
     "metadata": {
      "needs_background": "light"
     },
     "output_type": "display_data"
    },
    {
     "data": {
      "image/png": "[encoded data removed]",
      "text/plain": [
       "<Figure size 432x288 with 1 Axes>"
      ]
     },
     "metadata": {
      "needs_background": "light"
     },
     "output_type": "display_data"
    },
    {
     "data": {
      "image/png": "[encoded data removed]",
      "text/plain": [
       "<Figure size 432x288 with 1 Axes>"
      ]
     },
     "metadata": {
      "needs_background": "light"
     },
     "output_type": "display_data"
    },
    {
     "name": "stdout",
     "output_type": "stream",
     "text": [
      "0.1256504154712707\n",
      "0.43997840966424967\n",
      "0.32776066941518733\n"
     ]
    }
   ],
   "source": [
    "# plot membrane potential\n",
    "dmm_alpha = nest.GetStatus(multimeter_alpha)[0]\n",
    "Vms_alpha = dmm_alpha[\"events\"][\"V_m\"][warmup:]\n",
    "Actms = dmm_alpha[\"events\"][\"Act_m\"][warmup:]\n",
    "Actns = dmm_alpha[\"events\"][\"Act_n\"][warmup:]\n",
    "Inacths = dmm_alpha[\"events\"][\"Inact_h\"][warmup:]\n",
    "ts_alpha = dmm_alpha[\"events\"][\"times\"][warmup:]\n",
    "\n",
    "dmm_beta = nest.GetStatus(multimeter_beta)[0]\n",
    "Vms_beta = dmm_beta[\"events\"][\"V_m\"][warmup:]\n",
    "ts_beta = dmm_beta[\"events\"][\"times\"][warmup:]\n",
    "\n",
    "dmm_gamma = nest.GetStatus(multimeter_gamma)[0]\n",
    "Vms_gamma = dmm_gamma[\"events\"][\"V_m\"][warmup:]\n",
    "ts_gamma = dmm_gamma[\"events\"][\"times\"][warmup:]\n",
    "\n",
    "pylab.figure(1)\n",
    "pylab.plot(ts_alpha, Vms_alpha)\n",
    "pylab.xlabel(\"t\")\n",
    "pylab.ylabel(\"membrane voltage\")\n",
    "pylab.title(\"Alpha\")\n",
    "pylab.show()\n",
    "\n",
    "pylab.figure(2)\n",
    "pylab.plot(ts_beta, Vms_beta)\n",
    "pylab.xlabel(\"t\")\n",
    "pylab.ylabel(\"membrane voltage\")\n",
    "pylab.title(\"Beta\")\n",
    "pylab.show()\n",
    "\n",
    "pylab.figure(3)\n",
    "pylab.plot(ts_gamma, Vms_gamma)\n",
    "pylab.xlabel(\"t\")\n",
    "pylab.ylabel(\"membrane voltage\")\n",
    "pylab.title(\"Gamma\")\n",
    "pylab.show()\n",
    "\n",
    "pylab.figure(4)\n",
    "pylab.plot(ts_alpha, Vms_alpha)\n",
    "pylab.plot(ts_beta, Vms_beta)\n",
    "pylab.plot(ts_gamma, Vms_gamma)\n",
    "pylab.legend([\"alpha\", \"beta\", \"gamma\"])\n",
    "pylab.xlabel(\"t\")\n",
    "pylab.ylabel(\"membrane voltage\")\n",
    "pylab.title(\"Combined\")\n",
    "pylab.show()\n",
    "\n",
    "pylab.figure(5)\n",
    "pylab.title(\"Alpha m, h, n\")\n",
    "pylab.plot(ts_alpha, Actms)\n",
    "pylab.plot(ts_alpha, Actns)\n",
    "pylab.plot(ts_alpha, Inacths)\n",
    "pylab.legend([\"m\", \"n\", \"h\"])\n",
    "pylab.show()\n",
    "\n",
    "print(Actms[-1])\n",
    "print(Actns[-1])\n",
    "print(Inacths[-1])"
   ]
  },
  {
   "cell_type": "code",
   "execution_count": 9,
   "metadata": {},
   "outputs": [
    {
     "data": {
      "image/png": "[encoded data removed]",
      "text/plain": [
       "<Figure size 432x288 with 1 Axes>"
      ]
     },
     "metadata": {
      "needs_background": "light"
     },
     "output_type": "display_data"
    }
   ],
   "source": [
    "# plot spike occurrances (does not really work for hh neurons yet)\n",
    "dSD_alpha = nest.GetStatus(spikedetector_alpha, keys=\"events\")[0]\n",
    "evs_alpha = dSD_alpha[\"senders\"]\n",
    "ts_sd_alpha = dSD_alpha[\"times\"]\n",
    "\n",
    "dSD_beta = nest.GetStatus(spikedetector_beta, keys=\"events\")[0]\n",
    "evs_beta = dSD_beta[\"senders\"]\n",
    "ts_sd_beta = dSD_beta[\"times\"]\n",
    "\n",
    "dSD_gamma = nest.GetStatus(spikedetector_gamma, keys=\"events\")[0]\n",
    "evs_gamma = dSD_gamma[\"senders\"]\n",
    "ts_sd_gamma = dSD_gamma[\"times\"]\n",
    "\n",
    "pylab.figure(2)\n",
    "pylab.plot(ts_sd_alpha, evs_alpha, \".\")\n",
    "pylab.plot(ts_sd_beta, evs_beta, \".\")\n",
    "pylab.plot(ts_sd_gamma, evs_gamma, \".\")\n",
    "pylab.legend([\"alpha\", \"beta\", \"gamma\"])\n",
    "pylab.show()"
   ]
  }
 ],
 "metadata": {
  "kernelspec": {
   "display_name": "Python 3",
   "language": "python",
   "name": "python3"
  },
  "language_info": {
   "codemirror_mode": {
    "name": "ipython",
    "version": 3
   },
   "file_extension": ".py",
   "mimetype": "text/x-python",
   "name": "python",
   "nbconvert_exporter": "python",
   "pygments_lexer": "ipython3",
   "version": "3.7.5"
  }
 },
 "nbformat": 4,
 "nbformat_minor": 4
}
